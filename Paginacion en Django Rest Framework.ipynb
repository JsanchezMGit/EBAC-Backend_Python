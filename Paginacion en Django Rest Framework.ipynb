{
 "cells": [
  {
   "cell_type": "markdown",
   "id": "bafa0f04-7a6f-42e8-bafb-807807fe1aa6",
   "metadata": {},
   "source": [
    "# Paginacion\n",
    "\n",
    "La definicion simple de paginacion es que cuando se intenta extaraer demaciada informacion, se divide dentro de multiples paginas.\n",
    "Ejemplo: Amazon\n",
    "\n",
    "La principal funcion de la paginacion es dividir mucha informacion en un formato muti pagina\n",
    "Esto ayuda a reducir la carga en la API y tambien del cliente\n",
    "En un supuesto de diez mil elementos al mismo tiempo o se pueden cargar 48 elementos al mismo tiempo. Se prefiere cargar 48 elementos al mismo tiempo.\n",
    "\n",
    "Asi no se desperdician recursos mostrando demaciados resultados que pueden no ser relevantes y tal vez el usuario no llegue a verlos porque opta por las primeras opciones.\n",
    "\n",
    "## Configuracion paginacion de Django REST framework"
   ]
  },
  {
   "cell_type": "code",
   "execution_count": null,
   "id": "e509d932-fb69-4821-9b5c-5db445620ef9",
   "metadata": {},
   "outputs": [],
   "source": [
    "https://www.django-rest-framework.org/api-guide/pagination/"
   ]
  },
  {
   "cell_type": "code",
   "execution_count": null,
   "id": "b624e74d-4e9b-4adb-9c75-f2d601fb5e60",
   "metadata": {},
   "outputs": [],
   "source": [
    "REST_FRAMEWORK = {\n",
    "    'DEFAULT_PAGINATION_CLASS': 'rest_framework.pagination.LimitOffsetPagination',\n",
    "    'PAGE_SIZE': 100\n",
    "}"
   ]
  },
  {
   "cell_type": "markdown",
   "id": "303e77a6-061d-48da-91e6-c253ea7395ba",
   "metadata": {},
   "source": [
    "En el JSON es importante revisar los campos de:\n",
    "- count\n",
    "- next\n",
    "- previous\n",
    "\n",
    "Hay varios tipos de paginacion:\n",
    "- PageNumberPagination\n",
    "- LimitOffsetPagination\n",
    "- CursorPagination\n",
    "\n",
    "\n",
    "### PageNumberPagination"
   ]
  },
  {
   "cell_type": "code",
   "execution_count": null,
   "id": "93589b72-1490-48e7-98a6-37a4e9d79904",
   "metadata": {},
   "outputs": [],
   "source": [
    "Crear cierta cantidad de productos para experimentar con la paginacion (forms_test)\n",
    "src/products2/pagination.py"
   ]
  },
  {
   "cell_type": "code",
   "execution_count": null,
   "id": "3ffe83e6-9e21-4ef4-a340-734045875285",
   "metadata": {},
   "outputs": [],
   "source": [
    "from rest_framework.pagination import PageNumberPagination\n",
    "\n",
    "class ProductPagination(PageNumberPagination):\n",
    "    #page_size = 4\n",
    "    page_query_param = \"p\"\n",
    "    page_size_query_param = \"size\"\n",
    "    max_page_size = 5\n",
    "    last_page_strings = \"end\""
   ]
  },
  {
   "cell_type": "code",
   "execution_count": null,
   "id": "2c6f06bf-dd29-47e1-9c47-bcf04082254f",
   "metadata": {},
   "outputs": [],
   "source": [
    "src/products2/serializers.py"
   ]
  },
  {
   "cell_type": "code",
   "execution_count": null,
   "id": "a48218a3-376c-4957-b93f-3cd5c9364ae2",
   "metadata": {},
   "outputs": [],
   "source": [
    "from rest_framework import serializers\n",
    "\n",
    "from .models import Product\n",
    "\n",
    "class ProductSerializer(serializers.ModelSerializer):\n",
    "    class Meta:\n",
    "        model = Product\n",
    "        fields = ['user', 'title', 'slug']"
   ]
  },
  {
   "cell_type": "code",
   "execution_count": null,
   "id": "491a5b9c-d890-4d00-97a0-b21c80932b44",
   "metadata": {},
   "outputs": [],
   "source": [
    "src/products2/views.py"
   ]
  },
  {
   "cell_type": "code",
   "execution_count": null,
   "id": "952c9df8-8841-4418-9603-de0c3cc39613",
   "metadata": {},
   "outputs": [],
   "source": [
    "#...\n",
    "from rest_framework import generics\n",
    "from .pagination import ProductPagination\n",
    "from .serializers import ProductSerializer\n",
    "#...\n",
    "class ProductListView(generics.ListAPIView):\n",
    "    queryset = Product2.objects.all()\n",
    "    serializer_class = ProductSerializer\n",
    "    pagination_class = ProductPagination"
   ]
  },
  {
   "cell_type": "markdown",
   "id": "afc57a97-302e-4d43-a2b0-d1e3eae201c4",
   "metadata": {},
   "source": [
    "### LimitOffsetPagination\n",
    "- limit: tamaño de pagina\n",
    "- offset: el numero de registros a saltar antes de seleccionar registros\n",
    "\n",
    "Ejemplo\n",
    "- 17 objetos en total\n",
    "- limit 5\n",
    "- offset 12\n",
    "- Regresa los ultimos 5 elementos"
   ]
  },
  {
   "cell_type": "code",
   "execution_count": null,
   "id": "406efb7c-91fc-48ee-8b07-e9d73607fe18",
   "metadata": {},
   "outputs": [],
   "source": [
    "src/products2/pagination.py"
   ]
  },
  {
   "cell_type": "code",
   "execution_count": null,
   "id": "ec3b8e30-aa98-4143-82b5-30dd50d69d97",
   "metadata": {},
   "outputs": [],
   "source": [
    "from rest_framework.pagination import PageNumberPagination, LimitOffsetPagination\n",
    "\n",
    "class ProductPagination(PageNumberPagination):\n",
    "    #page_size = 4\n",
    "    page_query_param = \"p\"\n",
    "    page_size_query_param = \"size\"\n",
    "    max_page_size = 5\n",
    "    last_page_strings = \"end\"\n",
    "\n",
    "class ProductLOPagination(LimitOffsetPagination):\n",
    "    defaut_limit = 5"
   ]
  },
  {
   "cell_type": "code",
   "execution_count": null,
   "id": "eab04725-6f68-483a-91b0-9f5bf634d714",
   "metadata": {},
   "outputs": [],
   "source": [
    "src/products2/views.py"
   ]
  },
  {
   "cell_type": "code",
   "execution_count": null,
   "id": "12a200c1-8fd9-4244-b5c1-ee5a5df58e14",
   "metadata": {},
   "outputs": [],
   "source": [
    "#...\n",
    "from .pagination import ProductPagination, ProductLOPagination#<-----\n",
    "#...\n",
    "class ProductListView(generics.ListAPIView):\n",
    "    queryset = Product2.objects.all()\n",
    "    serializer_class = ProductSerializer\n",
    "    pagination_class = ProductLOPagination#<-----"
   ]
  },
  {
   "cell_type": "code",
   "execution_count": null,
   "id": "026aa9f8-c882-4156-8c14-d478d3cccd91",
   "metadata": {},
   "outputs": [],
   "source": [
    "src/products2/pagination.py"
   ]
  },
  {
   "cell_type": "code",
   "execution_count": null,
   "id": "f6bc4fa5-5126-467f-b494-44abcd7be0bb",
   "metadata": {},
   "outputs": [],
   "source": [
    "from rest_framework.pagination import PageNumberPagination, LimitOffsetPagination\n",
    "\n",
    "class ProductPagination(PageNumberPagination):\n",
    "    #page_size = 4\n",
    "    page_query_param = \"p\"\n",
    "    page_size_query_param = \"size\"\n",
    "    max_page_size = 5\n",
    "    last_page_strings = \"end\"\n",
    "\n",
    "class ProductLOPagination(LimitOffsetPagination):\n",
    "    default_limit = 5\n",
    "    max_limit = 7\n",
    "    limit_query_param = \"records\"\n",
    "    offset_query_param = \"start\""
   ]
  },
  {
   "cell_type": "markdown",
   "id": "1e5b217f-4743-4edf-8b0a-7df10250f2b8",
   "metadata": {},
   "source": [
    "### CursorPagination\n",
    "- No se tiene numero de pagina\n",
    "- Solo se tiene next y prevoius\n",
    "- El orden por default es con un campo de created\n",
    "    - creataed: desde el ultimo al primero"
   ]
  },
  {
   "cell_type": "code",
   "execution_count": null,
   "id": "4fa328e9-8f48-4332-8e65-e54e0e80f7bd",
   "metadata": {},
   "outputs": [],
   "source": [
    "src/products2/models.py"
   ]
  },
  {
   "cell_type": "code",
   "execution_count": null,
   "id": "14616047-aa49-4a75-a023-0f7308470bbf",
   "metadata": {},
   "outputs": [],
   "source": [
    "from django.conf import settings\n",
    "from django.db import models\n",
    "\n",
    "User = settings.AUTH_USER_MODEL\n",
    "\n",
    "class Product2(models.Model):\n",
    "    user = models.ForeignKey(User, blank=True, null=True, on_delete=models.SET_NULL)\n",
    "    title = models.CharField(max_length=120)\n",
    "    slug = models.SlugField(unique=True)\n",
    "    price = models.DecimalField(decimal_places=2, max_digits=20, default=10)\n",
    "    created = models.DateTimeField(auto_now_add=True)#<-----\n",
    "\n",
    "    def get_absolute_url(self):\n",
    "        return f\"/products/products/{self.slug}\"\n",
    "    \n",
    "    def get_edit_url(self):\n",
    "        return f\"/products/my-products/{self.slug}\"\n",
    "    \n",
    "    def get_delete_url(self):\n",
    "        return f\"/products/my-products/{self.slug}/delete\"\n",
    "\n",
    "class DigitalProduct2(Product2):\n",
    "    class Meta:\n",
    "        proxy = True"
   ]
  },
  {
   "cell_type": "code",
   "execution_count": null,
   "id": "d7fead59-1dae-4f39-af6e-58e09a7dbbf5",
   "metadata": {},
   "outputs": [],
   "source": [
    "python manage.py makemigrations\n",
    "python manage.py migrate"
   ]
  },
  {
   "cell_type": "code",
   "execution_count": null,
   "id": "22c3e2fa-f239-4504-a154-ed99ea780c3d",
   "metadata": {},
   "outputs": [],
   "source": [
    "src/products2/pagination.py"
   ]
  },
  {
   "cell_type": "code",
   "execution_count": null,
   "id": "d046c168-ae48-4f26-bf94-dd1246cdf746",
   "metadata": {},
   "outputs": [],
   "source": [
    "from rest_framework.pagination import PageNumberPagination, LimitOffsetPagination, CursorPagination\n",
    "\n",
    "class ProductPagination(PageNumberPagination):\n",
    "    #page_size = 4\n",
    "    page_query_param = \"p\"\n",
    "    page_size_query_param = \"size\"\n",
    "    max_page_size = 5\n",
    "    last_page_strings = \"end\"\n",
    "\n",
    "class ProductLOPagination(LimitOffsetPagination):\n",
    "    default_limit = 5\n",
    "    max_limit = 7\n",
    "    limit_query_param = \"records\"\n",
    "    offset_query_param = \"start\"\n",
    "\n",
    "class ProductCPagination(CursorPagination):\n",
    "    page_size = 4"
   ]
  },
  {
   "cell_type": "code",
   "execution_count": null,
   "id": "6760433e-5465-44a6-851a-567d0569a8c1",
   "metadata": {},
   "outputs": [],
   "source": [
    "src/products2/views.py"
   ]
  },
  {
   "cell_type": "code",
   "execution_count": null,
   "id": "ba9f321d-1da6-4ed5-9212-666dcb1ebd61",
   "metadata": {},
   "outputs": [],
   "source": [
    "#...\n",
    "from .pagination import ProductPagination, ProductLOPagination, ProductCPagination#<-----\n",
    "#...\n",
    "class ProductListView(generics.ListAPIView):\n",
    "    queryset = Product2.objects.all()\n",
    "    serializer_class = ProductSerializer\n",
    "    pagination_class = ProductCPagination#<-----"
   ]
  },
  {
   "cell_type": "markdown",
   "id": "5d66c3c5-35f6-49d5-8f4e-67b7360af132",
   "metadata": {},
   "source": [
    "## Renderers - BrowsableAPI JSON\n",
    "https://www.django-rest-framework.org/api-guide/renderers/"
   ]
  },
  {
   "cell_type": "code",
   "execution_count": null,
   "id": "53fa4414-8514-45ee-b089-88b365573129",
   "metadata": {},
   "outputs": [],
   "source": [
    "src/config/settings.py"
   ]
  },
  {
   "cell_type": "code",
   "execution_count": null,
   "id": "d5039a93-7bca-4ec7-8ba1-b69a9f99b994",
   "metadata": {},
   "outputs": [],
   "source": [
    "#...\n",
    "REST_FRAMEWORK = {\n",
    "    \"DEFAULT_RENDERER_CLASSES\" : [\n",
    "        \"rest_framework.renderers.JSONRenderer\"\n",
    "    ]\n",
    "}"
   ]
  }
 ],
 "metadata": {
  "kernelspec": {
   "display_name": "Python [conda env:base] *",
   "language": "python",
   "name": "conda-base-py"
  },
  "language_info": {
   "codemirror_mode": {
    "name": "ipython",
    "version": 3
   },
   "file_extension": ".py",
   "mimetype": "text/x-python",
   "name": "python",
   "nbconvert_exporter": "python",
   "pygments_lexer": "ipython3",
   "version": "3.12.7"
  }
 },
 "nbformat": 4,
 "nbformat_minor": 5
}
