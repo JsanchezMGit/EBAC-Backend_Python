{
 "cells": [
  {
   "cell_type": "markdown",
   "id": "f3d718bc-35c9-4177-a213-39500ba98140",
   "metadata": {},
   "source": [
    "# Intro a Django Forms"
   ]
  },
  {
   "cell_type": "code",
   "execution_count": null,
   "id": "82f5e961-eadd-4046-ab03-04dc27eaba78",
   "metadata": {},
   "outputs": [],
   "source": [
    "Form: una forma de recolectar data de los usuarios\n",
    "\n",
    "GET - Obtener data como usuarios\n",
    "POST - Guardar data como usuarios"
   ]
  },
  {
   "cell_type": "code",
   "execution_count": null,
   "id": "53760553-a65f-41f7-a009-332258bcc635",
   "metadata": {},
   "outputs": [],
   "source": [
    "python manage.py startapp forms_test"
   ]
  },
  {
   "cell_type": "code",
   "execution_count": null,
   "id": "0727446c-f6b1-4974-bb0d-98a38a70e75b",
   "metadata": {},
   "outputs": [],
   "source": [
    "src/forms_test/forms.py"
   ]
  },
  {
   "cell_type": "code",
   "execution_count": null,
   "id": "59d96ab2-a26d-4324-984b-7d1b769bf0e4",
   "metadata": {},
   "outputs": [],
   "source": [
    "from django import forms\n",
    "\n",
    "class SearchForm(forms.Form):\n",
    "    q = forms.CharField()"
   ]
  },
  {
   "cell_type": "markdown",
   "id": "28f49840-4df1-4dcc-a745-1df2fa4e51d7",
   "metadata": {},
   "source": [
    "## Mostrar el form en una vista"
   ]
  },
  {
   "cell_type": "code",
   "execution_count": null,
   "id": "7335a666-53af-4843-9003-f1bc6555091d",
   "metadata": {},
   "outputs": [],
   "source": [
    "src/forms_test/views.py"
   ]
  },
  {
   "cell_type": "code",
   "execution_count": null,
   "id": "63e2f783-1cc5-4c62-ba75-767a38088bb7",
   "metadata": {},
   "outputs": [],
   "source": [
    "from django.shortcuts import render\n",
    "\n",
    "from .forms import SearchForm\n",
    "\n",
    "def home(request):\n",
    "    form = SearchForm()\n",
    "    return render(request, 'forms.html', { 'form' : form })"
   ]
  },
  {
   "cell_type": "code",
   "execution_count": null,
   "id": "34079cb2-b2db-414a-8f1b-34d83edee55c",
   "metadata": {},
   "outputs": [],
   "source": [
    "src/templates/forms.html"
   ]
  },
  {
   "cell_type": "code",
   "execution_count": null,
   "id": "f2e7a8b7-4826-4899-9da5-1ca50b56d884",
   "metadata": {},
   "outputs": [],
   "source": [
    "<form method=\"POST\" action=\".\">\n",
    "    {% csrf_token %}\n",
    "    {{ form.as_p }}\n",
    "    <input type=\"submit\" value=\"Guardar\">\n",
    "    {% if delete_url %}\n",
    "        <a href=\"{{ delete_url }}\">Eliminar</a>\n",
    "    {% endif %}\n",
    "</form>"
   ]
  },
  {
   "cell_type": "code",
   "execution_count": null,
   "id": "4b819a7e-9fc9-42e9-a370-634ecb17cc14",
   "metadata": {},
   "outputs": [],
   "source": [
    "src/config/urls.py"
   ]
  },
  {
   "cell_type": "code",
   "execution_count": null,
   "id": "4c542801-5c21-4a6b-a082-6f4ec60ef99a",
   "metadata": {},
   "outputs": [],
   "source": [
    "#...\n",
    "urlpatterns = [\n",
    "    path(\"up/\", include(\"up.urls\")),\n",
    "    path(\"\", include(\"pages.urls\")),\n",
    "    path(\"analytics/\", include(\"analytics.urls\")),\n",
    "    path(\"admin/\", admin.site.urls),\n",
    "    path(\"forms/\", include(\"forms_test.urls\")),#<-----\n",
    "]\n",
    "#..."
   ]
  },
  {
   "cell_type": "code",
   "execution_count": null,
   "id": "a87ae719-7c25-49af-9eae-35b3e8fc9e27",
   "metadata": {},
   "outputs": [],
   "source": [
    "src/forms_test/urls.py"
   ]
  },
  {
   "cell_type": "code",
   "execution_count": null,
   "id": "453a11bc-8027-4f5b-a101-ff745053838f",
   "metadata": {},
   "outputs": [],
   "source": [
    "from django.contrib import admin\n",
    "from django.urls import path\n",
    "\n",
    "from .views import home\n",
    "\n",
    "urlpatterns = [\n",
    "    path(\"admin/\", admin.site.urls),\n",
    "    path(\"\", home),\n",
    "]"
   ]
  },
  {
   "cell_type": "code",
   "execution_count": null,
   "id": "66f0025a-016e-4f9f-b939-2b57807d7d61",
   "metadata": {},
   "outputs": [],
   "source": [
    "src/config/settings.py"
   ]
  },
  {
   "cell_type": "code",
   "execution_count": null,
   "id": "d0a3b02b-3c05-48e6-9323-a8891812af43",
   "metadata": {},
   "outputs": [],
   "source": [
    "#...\n",
    "INSTALLED_APPS = [\n",
    "    \"forms_test.apps.FormsTestConfig\",#<-----\n",
    "    \"accounts.apps.AccountsConfig\",\n",
    "    \"addresses.apps.AddressesConfig\",\n",
    "    \"analytics.apps.AnalyticsConfig\",\n",
    "    \"billing.apps.BillingConfig\",\n",
    "    \"carts.apps.CartsConfig\",\n",
    "    \"order.apps.OrderConfig\",\n",
    "    \"pages.apps.PagesConfig\",\n",
    "    \"products.apps.ProductsConfig\",\n",
    "    \"django.contrib.admin\",\n",
    "    \"django.contrib.auth\",\n",
    "    \"django.contrib.contenttypes\",\n",
    "    \"django.contrib.sessions\",\n",
    "    \"django.contrib.messages\",\n",
    "    \"django.contrib.staticfiles\",\n",
    "]\n",
    "#..."
   ]
  },
  {
   "cell_type": "markdown",
   "id": "77796e06-52be-46b2-8b98-5f0b1edf2563",
   "metadata": {},
   "source": [
    "## Validacion en campos de un Form"
   ]
  },
  {
   "cell_type": "code",
   "execution_count": null,
   "id": "5e02d90c-a70f-413e-9256-5e9bd756c61c",
   "metadata": {},
   "outputs": [],
   "source": [
    "src/forms_test/forms.py"
   ]
  },
  {
   "cell_type": "code",
   "execution_count": null,
   "id": "1b7668ba-5177-4d18-b25a-160d41c3560f",
   "metadata": {},
   "outputs": [],
   "source": [
    "from django import forms\n",
    "\n",
    "class TestForm(forms.Form):\n",
    "    some_text = forms.CharField()\n",
    "    boolean = forms.BooleanField()\n",
    "    integer = forms.IntegerField()\n",
    "    email = forms.EmailField()"
   ]
  },
  {
   "cell_type": "code",
   "execution_count": null,
   "id": "619b35fe-6dba-479c-9715-7528d45921a0",
   "metadata": {},
   "outputs": [],
   "source": [
    "src/forms_test/views.py"
   ]
  },
  {
   "cell_type": "code",
   "execution_count": null,
   "id": "aec7e7ea-8c11-484c-a32e-7b4aac30aac3",
   "metadata": {},
   "outputs": [],
   "source": [
    "from django.shortcuts import render\n",
    "\n",
    "from .forms import TestForm\n",
    "\n",
    "def home(request):\n",
    "    form = TestForm()\n",
    "    return render(request, 'forms.html', { 'form' : form })"
   ]
  },
  {
   "cell_type": "markdown",
   "id": "dd7dbf8a-c70f-41fa-bde4-addfccd32a58",
   "metadata": {},
   "source": [
    "## Obtener data de un Django form"
   ]
  },
  {
   "cell_type": "code",
   "execution_count": null,
   "id": "552fb31f-7b88-4121-8653-5eef2c1760f2",
   "metadata": {},
   "outputs": [],
   "source": [
    "src/forms_test/views.py"
   ]
  },
  {
   "cell_type": "code",
   "execution_count": null,
   "id": "f4bd0cd8-d821-4088-a430-5c4443116ae6",
   "metadata": {},
   "outputs": [],
   "source": [
    "from django.shortcuts import render\n",
    "\n",
    "from .forms import TestForm\n",
    "\n",
    "def home(request):\n",
    "    form = TestForm(request.POST or None)\n",
    "    if form.is_valid():\n",
    "        print(form.cleaned_data)\n",
    "    return render(request, 'forms.html', { 'form' : form })"
   ]
  },
  {
   "cell_type": "markdown",
   "id": "11094f77-f602-4ca5-8284-873e78b79194",
   "metadata": {},
   "source": [
    "## Validaciones basicas en un form"
   ]
  },
  {
   "cell_type": "code",
   "execution_count": null,
   "id": "85202187-bde2-461b-bd8d-bbb6edd68a87",
   "metadata": {},
   "outputs": [],
   "source": [
    "src/forms_test/forms.py"
   ]
  },
  {
   "cell_type": "code",
   "execution_count": null,
   "id": "26c99640-9dc6-438e-8810-203326112edf",
   "metadata": {},
   "outputs": [],
   "source": [
    "from django import forms\n",
    "\n",
    "class TestForm(forms.Form):\n",
    "    un_texto = forms.CharField()\n",
    "    boolean = forms.BooleanField()\n",
    "    entero = forms.IntegerField()\n",
    "    email = forms.EmailField()\n",
    "\n",
    "    def clean_entero(self, *args, **kwargs):\n",
    "        entero = self.clean_data.get('entero')\n",
    "        if entero > 100:\n",
    "            raise forms.ValidationError('El numero debe ser menor o igual que 100')\n",
    "        return entero\n",
    "    \n",
    "    def clean_un_texto(sefl, *args, **kwargs):\n",
    "        un_texto = sefl.cleaned_data.get('un_texto')\n",
    "        if len(un_texto) < 10:\n",
    "            raise forms.ValidationError('El texto debe contener mas de 10 caracteres')"
   ]
  },
  {
   "cell_type": "markdown",
   "id": "84ea279e-38fd-4a05-a33f-9ff6363bad1e",
   "metadata": {},
   "source": [
    "## Data inicial en un form"
   ]
  },
  {
   "cell_type": "markdown",
   "id": "8e03c924-2690-4cc7-a645-a1289d4e88de",
   "metadata": {},
   "source": [
    "### Opcion 1"
   ]
  },
  {
   "cell_type": "code",
   "execution_count": null,
   "id": "93926a75-b9e4-4bdc-b90b-10009f1f1e37",
   "metadata": {},
   "outputs": [],
   "source": [
    "src/forms_test/views.py"
   ]
  },
  {
   "cell_type": "code",
   "execution_count": null,
   "id": "06cb37fb-2cd3-4414-831b-aba76104eb58",
   "metadata": {},
   "outputs": [],
   "source": [
    "from django.shortcuts import render\n",
    "\n",
    "from .forms import TestForm\n",
    "\n",
    "def home(request):\n",
    "    initial_data = {\n",
    "        'un_texto': 'Texto inicial',\n",
    "        'boolean': True,\n",
    "        'entero': 100,\n",
    "        'email': 'test@test.com'\n",
    "    }\n",
    "    form = TestForm(request.POST or None, initial=initial_data)\n",
    "    if form.is_valid():\n",
    "        print(form.cleaned_data)\n",
    "    return render(request, 'forms.html', { 'form' : form })"
   ]
  },
  {
   "cell_type": "markdown",
   "id": "e7af974b-6583-4e42-8f0e-2c1c279f1d07",
   "metadata": {},
   "source": [
    "### Opcion 2"
   ]
  },
  {
   "cell_type": "code",
   "execution_count": null,
   "id": "09314ff2-a65f-46f6-b890-c5042999562e",
   "metadata": {},
   "outputs": [],
   "source": [
    "src/forms_test/forms.py"
   ]
  },
  {
   "cell_type": "code",
   "execution_count": null,
   "id": "a384db59-d6bc-4a97-b407-0d23630c53b2",
   "metadata": {},
   "outputs": [],
   "source": [
    "from django import forms\n",
    "\n",
    "class TestForm(forms.Form):\n",
    "    un_texto = forms.CharField(initial='Texto inicial')\n",
    "    boolean = forms.BooleanField()\n",
    "    entero = forms.IntegerField(initial=100)\n",
    "    email = forms.EmailField()\n",
    "\n",
    "    def clean_entero(self, *args, **kwargs):\n",
    "        entero = self.cleaned_data.get('entero')\n",
    "        if entero > 100:\n",
    "            raise forms.ValidationError('El numero debe ser menor o igual que 100')\n",
    "        return entero\n",
    "    \n",
    "    def clean_un_texto(sefl, *args, **kwargs):\n",
    "        un_texto = sefl.cleaned_data.get('un_texto')\n",
    "        if len(un_texto) < 10:\n",
    "            raise forms.ValidationError('El texto debe contener mas de 10 caracteres')"
   ]
  },
  {
   "cell_type": "markdown",
   "id": "c972c737-d73d-4ce3-afb9-e9515664afc1",
   "metadata": {},
   "source": [
    "## Etiqueta y Widgets de Forms"
   ]
  },
  {
   "cell_type": "code",
   "execution_count": null,
   "id": "0b7e9795-97b6-4ad0-bdf7-3e5b25022ebc",
   "metadata": {},
   "outputs": [],
   "source": [
    "src/forms_test/forms.py"
   ]
  },
  {
   "cell_type": "code",
   "execution_count": null,
   "id": "bb3a154f-b51f-4bd6-98bb-82c3734d307b",
   "metadata": {},
   "outputs": [],
   "source": [
    "from django import forms\n",
    "\n",
    "MY_CHOICES = {\n",
    "    ('db-value1', 'Opcion 1'),\n",
    "    ('o2', 'Opcion 2'),\n",
    "    ('o3', 'Opcion 3')\n",
    "}\n",
    "\n",
    "YEARS = [x for x in range(1900, 2030)]\n",
    "\n",
    "\n",
    "class TestForm(forms.Form):\n",
    "    fecha = forms.DateField(widget=forms.SelectDateWidget(years=YEARS))\n",
    "    un_texto = forms.CharField(initial='Texto inicial', label='Ingresa un texto:', widget=forms.Textarea(attrs={'rows':4, 'cols':20}))\n",
    "    boolean = forms.BooleanField(initial=True)\n",
    "    entero = forms.IntegerField(initial=80)\n",
    "    email = forms.EmailField(initial='test@test.com')\n",
    "    opciones = forms.CharField(label='Selecciona una opcion', widget=forms.Select(choices=MY_CHOICES))\n",
    "    opciones_radio = forms.CharField(label='Selecciona una opcion', widget=forms.RadioSelect(choices=MY_CHOICES))\n",
    "    opciones_checkbox = forms.CharField(label='Selecciona una opcion', widget=forms.CheckboxSelectMultiple(choices=MY_CHOICES))\n",
    "\n",
    "    def clean_entero(self, *args, **kwargs):\n",
    "        entero = self.cleaned_data.get('entero')\n",
    "        if entero > 100:\n",
    "            raise forms.ValidationError('El numero debe ser menor o igual que 100')\n",
    "        return entero\n",
    "    \n",
    "    def clean_un_texto(sefl, *args, **kwargs):\n",
    "        un_texto = sefl.cleaned_data.get('un_texto')\n",
    "        if len(un_texto) < 10:\n",
    "            raise forms.ValidationError('El texto debe contener mas de 10 caracteres')"
   ]
  },
  {
   "cell_type": "markdown",
   "id": "fef4cbc7-3452-4f49-9f4a-2c7e115d1ddf",
   "metadata": {},
   "source": [
    "## Model form"
   ]
  },
  {
   "cell_type": "code",
   "execution_count": null,
   "id": "8f1f2bd6-b8bb-444f-bd10-b0ba82b1fd05",
   "metadata": {},
   "outputs": [],
   "source": [
    "src/templates/forms.html"
   ]
  },
  {
   "cell_type": "code",
   "execution_count": null,
   "id": "83dffb67-75e9-493c-b5df-6fd06dd17369",
   "metadata": {},
   "outputs": [],
   "source": [
    "{% extends 'base.html' %}\n",
    "{% block content %}\n",
    "<h1>Form View</h1>\n",
    "<form method=\"POST\" action=\".\">\n",
    "    {% csrf_token %}\n",
    "    {{ form.as_p }}\n",
    "    <input type=\"submit\" value=\"Guardar\">\n",
    "    {% if delete_url %}\n",
    "        <a href=\"{{ delete_url }}\">Eliminar</a>\n",
    "    {% endif %}\n",
    "</form>\n",
    "{% endblock %}"
   ]
  },
  {
   "cell_type": "code",
   "execution_count": null,
   "id": "594ea76d-5673-4054-a7af-36b4f093f97c",
   "metadata": {},
   "outputs": [],
   "source": [
    "src/forms_test/forms.py"
   ]
  },
  {
   "cell_type": "code",
   "execution_count": null,
   "id": "29a75315-3c86-46d8-a343-9dcad37c9770",
   "metadata": {},
   "outputs": [],
   "source": [
    "#...\n",
    "\n",
    "from .models import Product\n",
    "\n",
    "class ProductModelForm(forms.ModelForm):\n",
    "    class Meta:\n",
    "        model = Product\n",
    "        fields = [\n",
    "            'title',\n",
    "            'slug',\n",
    "            'price'\n",
    "        ]\n",
    "        exclude = []\n",
    "#..."
   ]
  },
  {
   "cell_type": "code",
   "execution_count": null,
   "id": "0f5e4a75-7d28-42f8-adec-6d59bfe85c3f",
   "metadata": {},
   "outputs": [],
   "source": [
    "src/forms_test/models.py"
   ]
  },
  {
   "cell_type": "code",
   "execution_count": null,
   "id": "df19f301-c1c3-4ed9-981f-259fab966167",
   "metadata": {},
   "outputs": [],
   "source": [
    "from django.conf import settings\n",
    "from django.db import models\n",
    "\n",
    "class Product(models.Model):\n",
    "    title = models.CharField(max_length=120)\n",
    "    slug = models.SlugField(unique=True)\n",
    "    price = models.DecimalField()"
   ]
  },
  {
   "cell_type": "code",
   "execution_count": null,
   "id": "b8309cbd-7a54-47f2-8c56-f145ed5501e3",
   "metadata": {},
   "outputs": [],
   "source": [
    "python manage.py makemigrations\n",
    "python manage.py migrate "
   ]
  },
  {
   "cell_type": "code",
   "execution_count": null,
   "id": "ee2f5d75-ba6a-454e-b05e-8be5505ad240",
   "metadata": {},
   "outputs": [],
   "source": [
    "src/products/admin.py"
   ]
  },
  {
   "cell_type": "code",
   "execution_count": null,
   "id": "875a0d7a-24ea-4faa-af8d-4b56f63fdc11",
   "metadata": {},
   "outputs": [],
   "source": [
    "from django.contrib import admin\n",
    "\n",
    "from .models import Product\n",
    "\n",
    "admin.site.register(Product)"
   ]
  },
  {
   "cell_type": "markdown",
   "id": "0124449e-28ed-4771-ba17-84765baa7138",
   "metadata": {},
   "source": [
    "## Mensajes de error personalizados"
   ]
  },
  {
   "cell_type": "code",
   "execution_count": null,
   "id": "b24c7c66-2836-4a4d-af2f-7c0c0e3fd878",
   "metadata": {},
   "outputs": [],
   "source": [
    "src/forms_test/forms.py"
   ]
  },
  {
   "cell_type": "code",
   "execution_count": null,
   "id": "5dc433f7-39dd-4a3a-9de3-4e3129fc2fad",
   "metadata": {},
   "outputs": [],
   "source": [
    "#...\n",
    "class ProductModelForm(forms.ModelForm):\n",
    "    labels = {\n",
    "        'title': 'Mi etiqueta para el titulo',\n",
    "        'slug': 'Mi etiqueta para el slug',\n",
    "        'proce': 'Mi etiqueta para el precio'\n",
    "    }\n",
    "    class Meta:\n",
    "        model = Product\n",
    "        fields = [\n",
    "            'title',\n",
    "            'slug',\n",
    "            'price'\n",
    "        ]\n",
    "        exclude = []\n",
    "\n",
    "    def clean_title(self, *args, **kwargs):\n",
    "        title = self.cleaned_data.get('title')\n",
    "        if len(title) <= 10:\n",
    "            raise forms.ValidationError('El titulo debe tener mas de 10 caracteres')\n",
    "        return title\n",
    "    \n",
    "    def clean_slug(self, *args, **kwargs):\n",
    "        slug = self.cleaned_data.get('slug')\n",
    "        if len(slug) <= 10:\n",
    "            raise forms.ValidationError('El slug debe tener mas de 10 caracteres')\n",
    "        if 'misupermarca' not in slug:\n",
    "            raise forms.ValidationError('El slug debe incluir \"misupermarca\"')\n",
    "        return slug\n",
    "#..."
   ]
  },
  {
   "cell_type": "markdown",
   "id": "b52c65c0-66d5-4eae-aa54-da1703e21afe",
   "metadata": {},
   "source": [
    "## Django formsets"
   ]
  },
  {
   "cell_type": "code",
   "execution_count": null,
   "id": "199e7fbd-3f30-477f-aae4-f63069211f63",
   "metadata": {},
   "outputs": [],
   "source": [
    "src/templates/base.html"
   ]
  },
  {
   "cell_type": "code",
   "execution_count": null,
   "id": "eb5df2d7-58af-40e6-b133-9bf9067d5c29",
   "metadata": {},
   "outputs": [],
   "source": [
    "<body>\n",
    "    <div class=\"container\">\n",
    "        {% block content %}\n",
    "        {% endblock %}\n",
    "    </div>\n",
    "</body>"
   ]
  },
  {
   "cell_type": "code",
   "execution_count": null,
   "id": "b1daa2ee-a649-4c2c-a213-d6654722cd25",
   "metadata": {},
   "outputs": [],
   "source": [
    "src/templates/formset_view.html"
   ]
  },
  {
   "cell_type": "code",
   "execution_count": null,
   "id": "10bd1b56-725a-4b37-a02c-a887c028eb27",
   "metadata": {},
   "outputs": [],
   "source": [
    "{% extends 'base.html' %}\n",
    "{% block content %}\n",
    "<h1>Form View</h1>\n",
    "<form method=\"POST\" action=\".\">\n",
    "    {% csrf_token %}\n",
    "    {{ form.as_p }}\n",
    "    <input type=\"submit\" value=\"Guardar\">\n",
    "    {% if delete_url %}\n",
    "        <a href=\"{{ delete_url }}\">Eliminar</a>\n",
    "    {% endif %}\n",
    "</form>\n",
    "{% endblock %}"
   ]
  },
  {
   "cell_type": "code",
   "execution_count": null,
   "id": "158a473a-34e3-4b96-8956-a7ef6029a3d3",
   "metadata": {},
   "outputs": [],
   "source": [
    "src/forms_test/views.py"
   ]
  },
  {
   "cell_type": "code",
   "execution_count": null,
   "id": "067e1a88-d095-4c41-a1ef-1aaa2a4da556",
   "metadata": {},
   "outputs": [],
   "source": [
    "from django.forms import formset_factory, modelform_factory\n",
    "from django.shortcuts import render\n",
    "\n",
    "from .forms import TestForm, ProductModelForm\n",
    "\n",
    "def home(request):\n",
    "    TestFormSet = formset_factory(TestForm, extra=3)\n",
    "    formset = TestFormSet(request.POST or None)\n",
    "    if formset.is_valid():\n",
    "        for form in formset:\n",
    "            print(form.cleaned_data)\n",
    "    context = {\n",
    "        'formset': formset\n",
    "    }\n",
    "    return render(request, 'formset_view.html', context)"
   ]
  },
  {
   "cell_type": "markdown",
   "id": "ae789c04-6fd1-4f43-8959-9af37e00f3de",
   "metadata": {},
   "source": [
    "## Django Modelfomrsets\n",
    "\n",
    "MoelFormset: Un grupo de ModelForms"
   ]
  },
  {
   "cell_type": "code",
   "execution_count": null,
   "id": "dcfbf0bf-d282-4a25-ae3d-2cf195519008",
   "metadata": {},
   "outputs": [],
   "source": [
    "src/forms_test/views.py"
   ]
  },
  {
   "cell_type": "code",
   "execution_count": null,
   "id": "fc881969-fbe4-4029-aef9-30aa19d25884",
   "metadata": {},
   "outputs": [],
   "source": [
    "from django.forms import formset_factory, modelform_factory\n",
    "from django.shortcuts import render\n",
    "\n",
    "from .forms import TestForm, ProductModelForm\n",
    "from .models import Product\n",
    "\n",
    "def home(request):\n",
    "    ProductModelFormSet = modelform_factory(Product, form==ProductModelForm)\n",
    "    formset = ProductModelFormSet(request.POST or None, queryset=Product.objects.all())\n",
    "    print('formset.data')\n",
    "    print(formset.data)\n",
    "\n",
    "    print('formset.errors')\n",
    "    print(formset.errors)\n",
    "\n",
    "    formset.clean()\n",
    "    if formset.is_valid():\n",
    "        print('ModelFormset es valido')\n",
    "        \n",
    "    context = {\n",
    "        'formset': formset\n",
    "    }\n",
    "    return render(request, 'formset_view.html', context)"
   ]
  },
  {
   "cell_type": "markdown",
   "id": "6a206ffa-8ae9-471d-a0e6-6dc31dec69af",
   "metadata": {},
   "source": [
    "## Registro de usuario"
   ]
  },
  {
   "cell_type": "code",
   "execution_count": null,
   "id": "827dce0d-f162-43fe-a17a-ffbd489ec5a8",
   "metadata": {},
   "outputs": [],
   "source": [
    "src/forms_test/models.py"
   ]
  },
  {
   "cell_type": "code",
   "execution_count": null,
   "id": "5bd2d73d-7ab2-4f80-8208-98c3f28c26b5",
   "metadata": {},
   "outputs": [],
   "source": [
    "from django.conf import settings\n",
    "from django.db import models\n",
    "from django.contrib.auth.models import AbstractBaseUser\n",
    "\n",
    "class Product(models.Model):\n",
    "    title = models.CharField(max_length=120)\n",
    "    slug = models.SlugField(unique=True)\n",
    "    price = models.DecimalField(decimal_places=2, max_digits=20)\n",
    "\n",
    "class User(AbstractBaseUser):\n",
    "    email = models.EmailField(max_length=255, unique=True)\n",
    "    full_name = models.CharField(max_length=255, blank=True, null=True)\n",
    "    is_active = models.BooleanField(default=True)\n",
    "    staff = models.BooleanField(default=False)\n",
    "    admin = models.BooleanField(default=False)\n",
    "    timestamp = models.DateTimeField(auto_now_add=True)\n",
    "\n",
    "    USERNAME_FIELD = \"email\"\n",
    "    REQUIRED_FIELDS = []"
   ]
  },
  {
   "cell_type": "code",
   "execution_count": null,
   "id": "4c07b48a-9f1c-494e-b06a-4be05c108715",
   "metadata": {},
   "outputs": [],
   "source": [
    "src/forms_test/forms.py"
   ]
  },
  {
   "cell_type": "code",
   "execution_count": null,
   "id": "27b325b5-d998-48ef-8725-d8c73936bb50",
   "metadata": {},
   "outputs": [],
   "source": [
    "#...\n",
    "class UserModelForm(forms.ModelForm):\n",
    "    class Meta:\n",
    "        model = User\n",
    "        fields = [\n",
    "            'email',\n",
    "            'full_name'\n",
    "        ]\n",
    "        exclude = ['is_active', 'staff', 'admin', 'timestamp']   \n",
    "#..."
   ]
  },
  {
   "cell_type": "code",
   "execution_count": null,
   "id": "96d150ef-a060-4d32-96f5-e2fde9e41da4",
   "metadata": {},
   "outputs": [],
   "source": [
    "src/forms_test/views.py"
   ]
  },
  {
   "cell_type": "code",
   "execution_count": null,
   "id": "1b9fc358-61cb-4db7-9b76-7fb1afa461ac",
   "metadata": {},
   "outputs": [],
   "source": [
    "from django.shortcuts import render\n",
    "\n",
    "from .forms import UserModelForm\n",
    "\n",
    "def home(request):\n",
    "    form = UserModelForm(request.POST or None)\n",
    "    if form.is_valid():\n",
    "        form.save()\n",
    "    return render(request, 'forms.html', { 'form' : form })"
   ]
  }
 ],
 "metadata": {
  "kernelspec": {
   "display_name": "Python [conda env:base] *",
   "language": "python",
   "name": "conda-base-py"
  },
  "language_info": {
   "codemirror_mode": {
    "name": "ipython",
    "version": 3
   },
   "file_extension": ".py",
   "mimetype": "text/x-python",
   "name": "python",
   "nbconvert_exporter": "python",
   "pygments_lexer": "ipython3",
   "version": "3.12.7"
  }
 },
 "nbformat": 4,
 "nbformat_minor": 5
}
