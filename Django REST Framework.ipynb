{
 "cells": [
  {
   "cell_type": "markdown",
   "id": "7764b095-181b-42e1-bd42-a474b1ff54be",
   "metadata": {},
   "source": [
    "# Django REST Framework Views"
   ]
  },
  {
   "cell_type": "markdown",
   "id": "dd708117-63ec-4c70-afb5-2e819bb215df",
   "metadata": {},
   "source": [
    "## APIViews"
   ]
  },
  {
   "cell_type": "markdown",
   "id": "b6ead705-f4df-4f41-b1be-80cf3e1b9dd6",
   "metadata": {},
   "source": [
    "Es mas basico\n",
    "- Describir la logica para crear un endpoint\n",
    "\n",
    "¿Que es una APIView?\n",
    "- Usa metodos HTTP standar para funciones\n",
    "    - GET - Regresa uno o mas elementos\n",
    "    - POST - Crear elementos\n",
    "    - PUT - Actualizar elementos\n",
    "    - PATCH - Actualizar elementos parcialmente\n",
    "    - DELETE - Borrar elementos\n",
    "\n",
    "Caracteristicas\n",
    "- Nos dan mayor control sobre la logica\n",
    "- Llamar otras APIs\n",
    "- Trabajar con archivos locales\n",
    "\n",
    "¿Cuando usar APIViews?\n",
    "- Cuando se necesite un control completo sobre la logica de la app\n",
    "- Cuando se procesen archivos y se despliegen respuestas sincronas\n",
    "- Cuando se llamen otras APIs o servicios en una misma solicitud/request\n",
    "- Cuando se necesite acceso a archivos locales o data"
   ]
  },
  {
   "cell_type": "markdown",
   "id": "66513088-4d74-400b-a3aa-3be0e6ba736d",
   "metadata": {},
   "source": [
    "### Crear un APIView"
   ]
  },
  {
   "cell_type": "code",
   "execution_count": null,
   "id": "a6c2c28f-9f78-4b60-83e6-db2ede45dcd5",
   "metadata": {},
   "outputs": [],
   "source": [
    "python manage.py startapp rest_examples"
   ]
  },
  {
   "cell_type": "code",
   "execution_count": null,
   "id": "179f868b-423c-42b6-96ea-8ecc75096d48",
   "metadata": {},
   "outputs": [],
   "source": [
    "src/rest_examples/views.py"
   ]
  },
  {
   "cell_type": "code",
   "execution_count": null,
   "id": "836e2b0b-4dc8-4cac-9607-dd7d4febfb57",
   "metadata": {},
   "outputs": [],
   "source": [
    "from rest_framework import APIView\n",
    "from rest_framework.response import Response\n",
    "\n",
    "class TestAPIView(APIView):\n",
    "    \"\"\"API View de prueba\"\"\"\n",
    "\n",
    "    def get(self, request, format=None):\n",
    "        \"\"\"Regresa una lista de caracteristicas de un APIView\"\"\"\n",
    "        apiview_info = [\n",
    "            \"Uas metodos HTTP como funciones (get, post, patch put, delete)\",\n",
    "            \"Es similar a un Django View tradicional\",\n",
    "            \"Te da el mayor control de la logica de la app\",\n",
    "            \"Es mapeado manuelmente a los urls\"\n",
    "        ]\n",
    "\n",
    "        return Response({\"message\":\"Hola\", \"apiview_info\":apiview_info})"
   ]
  },
  {
   "cell_type": "code",
   "execution_count": null,
   "id": "0f4c069f-6d3f-4018-9bd2-ce2fc41ef5f0",
   "metadata": {},
   "outputs": [],
   "source": [
    "src/config/urls.py"
   ]
  },
  {
   "cell_type": "code",
   "execution_count": null,
   "id": "b549eb4a-0f43-4e0d-93ca-f2e8bd70cca1",
   "metadata": {},
   "outputs": [],
   "source": [
    "#...\n",
    "urlpatterns = [\n",
    "    path(\"up/\", include(\"up.urls\")),\n",
    "    path(\"\", include(\"pages.urls\")),\n",
    "    path(\"ecommerce/\", include(\"ecommerce.urls\")),\n",
    "    path(\"products/\", include(\"products.urls\")),\n",
    "    path(\"admin/\", admin.site.urls),\n",
    "    path(\"forms/\", include(\"forms_test.urls\")),\n",
    "    path(\"templates/\", include(\"test_templates.urls\")),\n",
    "    path(\"api/v1/\", include(\"api.urls\")),\n",
    "    path(\"api/v2/\", include(\"rest_examples.urls\"))#<-----\n",
    "]\n",
    "#..."
   ]
  },
  {
   "cell_type": "code",
   "execution_count": null,
   "id": "46087367-7b20-4bcb-934e-b4a396a8d2d1",
   "metadata": {},
   "outputs": [],
   "source": [
    "src/config/settings.py"
   ]
  },
  {
   "cell_type": "code",
   "execution_count": null,
   "id": "59dc0c4f-fa19-4e60-aa28-0ef018cd2dfe",
   "metadata": {},
   "outputs": [],
   "source": [
    "#...\n",
    "INSTALLED_APPS = [\n",
    "    \"rest_examples.app.RestExamplesConfig\",#<-----\n",
    "    \"api.apps.ApiConfig\",\n",
    "    \"test_templates.apps.TestTemplatesConfig\",\n",
    "    \"forms_test.apps.FormsTestConfig\",\n",
    "    \"pages.apps.PagesConfig\",\n",
    "    \"products.apps.ProductsConfig\",\n",
    "    \"ecommerce.apps.EcommerceConfig\",\n",
    "    \"base.apps.BaseConfig\",\n",
    "    \"django.contrib.admin\",\n",
    "    \"django.contrib.auth\",\n",
    "    \"django.contrib.contenttypes\",\n",
    "    \"django.contrib.sessions\",\n",
    "    \"django.contrib.messages\",\n",
    "    \"django.contrib.staticfiles\",\n",
    "    \"rest_framework\"#<-----\n",
    "]\n",
    "#..."
   ]
  },
  {
   "cell_type": "code",
   "execution_count": null,
   "id": "2927f945-d8ab-4ca0-9524-b7d20579d9a8",
   "metadata": {},
   "outputs": [],
   "source": [
    "src/rest_examples/urls.py"
   ]
  },
  {
   "cell_type": "code",
   "execution_count": null,
   "id": "4fe105ec-991a-46d1-8868-5b18a37e7260",
   "metadata": {},
   "outputs": [],
   "source": [
    "from django.urls import path\n",
    "\n",
    "from .views import TestAPIView\n",
    "\n",
    "urlpatterns = [\n",
    "    path(\"\", TestAPIView.as_view())\n",
    "]"
   ]
  },
  {
   "cell_type": "markdown",
   "id": "c2462138-39f2-4618-9b69-ae8c5fc53e76",
   "metadata": {},
   "source": [
    "### Probado APIView"
   ]
  },
  {
   "cell_type": "code",
   "execution_count": null,
   "id": "ec7f675b-efeb-4c74-b15d-ab0b73965d18",
   "metadata": {},
   "outputs": [],
   "source": [
    "http://localhost:8000/api/v2/"
   ]
  },
  {
   "cell_type": "markdown",
   "id": "c166526a-21da-4690-93a4-c0e7710b3b09",
   "metadata": {},
   "source": [
    "### Crear un serializador"
   ]
  },
  {
   "cell_type": "code",
   "execution_count": null,
   "id": "9e5500c5-79e5-412c-abc2-6509833faa51",
   "metadata": {},
   "outputs": [],
   "source": [
    "src/rest_examples/serializers.py"
   ]
  },
  {
   "cell_type": "code",
   "execution_count": null,
   "id": "29ccf513-d3ab-4e1e-bcc0-1dcfd788a28a",
   "metadata": {},
   "outputs": [],
   "source": [
    "from rest_framework import serializers\n",
    "\n",
    "class TEstSerializer(serializers.Serializer):\n",
    "    \"\"\"Serializa un campo de nombre\"\"\"\n",
    "    name = serializers.CharField(max_length=15)"
   ]
  },
  {
   "cell_type": "markdown",
   "id": "30417eb7-c34a-4399-bb87-9efae87614cd",
   "metadata": {},
   "source": [
    "### Agregar metodo POST al APIView"
   ]
  },
  {
   "cell_type": "code",
   "execution_count": null,
   "id": "2dcf24c5-2550-4340-b325-e97443859316",
   "metadata": {},
   "outputs": [],
   "source": [
    "src/rest_examples/views.py"
   ]
  },
  {
   "cell_type": "code",
   "execution_count": null,
   "id": "31d95ec9-430f-4bc5-ba24-e3b1e6e1114e",
   "metadata": {},
   "outputs": [],
   "source": [
    "from rest_framework.views import APIView\n",
    "from rest_framework.response import Response\n",
    "from rest_framework import status\n",
    "\n",
    "from .serializers import TEstSerializer\n",
    "\n",
    "class TestAPIView(APIView):\n",
    "    \"\"\"API View de prueba\"\"\"\n",
    "    serializer_class - TEstSerializer\n",
    "\n",
    "    def get(self, request, format=None):\n",
    "        \"\"\"Regresa una lista de caracteristicas de un APIView\"\"\"\n",
    "        apiview_info = [\n",
    "            \"Uas metodos HTTP como funciones (get, post, patch put, delete)\",\n",
    "            \"Es similar a un Django View tradicional\",\n",
    "            \"Te da el mayor control de la logica de la app\",\n",
    "            \"Es mapeado manuelmente a los urls\"\n",
    "        ]\n",
    "\n",
    "        return Response({\"message\":\"Hola\", \"apiview_info\":apiview_info})\n",
    "    \n",
    "    def post(self, request):\n",
    "        \"\"\"Crea un mensaje con el nombre ingresado\"\"\"\n",
    "        serializer = self.serializer_class(data=request.data)\n",
    "\n",
    "        if serializer.is_valid():\n",
    "            name = serializer.validated_data.get(\"name\")\n",
    "            message = f\"Hola {name}\"\n",
    "            return Response({\"message\": message})\n",
    "        else:\n",
    "            return Response(serializer.errors, status=status.HTTP_400_BAD_REQUEST)"
   ]
  },
  {
   "cell_type": "markdown",
   "id": "8a1a584b-cd66-4853-9cce-e41d5fe51664",
   "metadata": {},
   "source": [
    "### Agregar os metodos PUT, PATCH y DELETE"
   ]
  },
  {
   "cell_type": "code",
   "execution_count": null,
   "id": "78cb7a71-7388-4518-8f69-ddfd890078db",
   "metadata": {},
   "outputs": [],
   "source": [
    "src/rest_examples/views.py"
   ]
  },
  {
   "cell_type": "code",
   "execution_count": null,
   "id": "08767e8b-8cd4-47a9-99b2-89d3f50fad8e",
   "metadata": {},
   "outputs": [],
   "source": [
    "from rest_framework.views import APIView\n",
    "from rest_framework.response import Response\n",
    "from rest_framework import status\n",
    "\n",
    "from .serializers import TEstSerializer\n",
    "\n",
    "class TestAPIView(APIView):\n",
    "    \"\"\"API View de prueba\"\"\"\n",
    "    serializer_class = TEstSerializer\n",
    "\n",
    "    def get(self, request, format=None):\n",
    "        \"\"\"Regresa una lista de caracteristicas de un APIView\"\"\"\n",
    "        apiview_info = [\n",
    "            \"Uas metodos HTTP como funciones (get, post, patch put, delete)\",\n",
    "            \"Es similar a un Django View tradicional\",\n",
    "            \"Te da el mayor control de la logica de la app\",\n",
    "            \"Es mapeado manuelmente a los urls\"\n",
    "        ]\n",
    "\n",
    "        return Response({\"message\":\"Hola\", \"apiview_info\":apiview_info})\n",
    "    \n",
    "    def post(self, request):\n",
    "        \"\"\"Crea un mensaje con el nombre ingresado\"\"\"\n",
    "        serializer = self.serializer_class(data=request.data)\n",
    "\n",
    "        if serializer.is_valid():\n",
    "            name = serializer.validated_data.get(\"name\")\n",
    "            message = f\"Hola {name}\"\n",
    "            return Response({\"message\": message})\n",
    "        else:\n",
    "            return Response(serializer.errors, status=status.HTTP_400_BAD_REQUEST)\n",
    "        \n",
    "    def put(self, request, pk=None):\n",
    "        \"\"\"Manejar la actualizacion de un objeto\"\"\"\n",
    "        return Response({\"method\":\"PUT\"})\n",
    "    \n",
    "    def patch(self, request, pk=None):\n",
    "        \"\"\"Manejar la actualizacion parcial de un objeto\"\"\"\n",
    "        return Response({\"method\":\"PATCH\"})\n",
    "    \n",
    "    def delete(self, request, pk=None):\n",
    "        \"\"\"Manejar la eliminacion de un objeto\"\"\"\n",
    "        return Response({\"method\":\"DELETE\"})"
   ]
  },
  {
   "cell_type": "markdown",
   "id": "9b26679c-2470-4f8c-b627-f08eb4546e6c",
   "metadata": {},
   "source": [
    "## Viewset"
   ]
  },
  {
   "cell_type": "markdown",
   "id": "8f05178b-5a70-40fe-88ba-eb20eef5f831",
   "metadata": {},
   "source": [
    "¿Que son los Viewsets?\n",
    "- Se encargan de la mayoria de la logica tipica\n",
    "- Adecuados para operaciones estandar de la base de datos\n",
    "- La forma mas rapida de crear una interface a la base de datos\n",
    "\n",
    "Metodos:\n",
    "- list - listar\n",
    "- cerate - crear\n",
    "- retrive - consultar\n",
    "- update - actualizar\n",
    "- partial_update - actualizar parcialmente\n",
    "- destroy - eliminar\n",
    "\n",
    "¿Cuando deberias usar Viewsets?\n",
    "- Cuando se necesita una interfaz CRUD simple para la base de datos\n",
    "- Cuando se necesita una API facil y repidamente\n",
    "- Cuando se necesita muy poca o incluso nula personalizacion\n",
    "- Cuando se trabaja con estucturas de datos estandarizadas"
   ]
  },
  {
   "cell_type": "code",
   "execution_count": null,
   "id": "82b00d4e-2a96-4ff2-97a1-3706ab9bdcf6",
   "metadata": {},
   "outputs": [],
   "source": [
    "src/rest_examples/views.py"
   ]
  },
  {
   "cell_type": "code",
   "execution_count": null,
   "id": "434c91ca-1018-4030-a1cf-2cedb3a8c3ca",
   "metadata": {},
   "outputs": [],
   "source": [
    "#...\n",
    "\n",
    "from rest_framework.viewsets import ViewSet\n",
    "\n",
    "#...\n",
    "\n",
    "class TestViewset(ViewSet):\n",
    "    \"\"\"Test API Viewset\"\"\"\n",
    "\n",
    "    def list(self, request):\n",
    "        \"\"\"Regresa un listado de caracteristicas de los viewsets\"\"\"\n",
    "        viewset_info = [\n",
    "            \"Usa acciones (list, create, retive, update, partial_update, destroy)\",\n",
    "            \"Se mapea automaticamente a los URL usando routers\",\n",
    "            \"Provee mas funcionalidad con menos codigo\"\n",
    "        ]\n",
    "\n",
    "        return Response({\"message\":\"Hola\", \"viewset_info\": viewset_info})"
   ]
  },
  {
   "cell_type": "code",
   "execution_count": null,
   "id": "ef0b127a-f43a-42ad-be3f-852f2cc84797",
   "metadata": {},
   "outputs": [],
   "source": [
    "src/rest_examples/urls.py"
   ]
  },
  {
   "cell_type": "code",
   "execution_count": null,
   "id": "693500ad-8877-4c7b-bc61-258f7b7749db",
   "metadata": {},
   "outputs": [],
   "source": [
    "from django.urls import path, include\n",
    "from rest_framework.routers import DefaultRouter\n",
    "\n",
    "from .views import TestAPIView, TestViewset\n",
    "\n",
    "router = DefaultRouter()\n",
    "router.register(\"test-viewset\", TestViewset, basename=\"test-viewset\")\n",
    "\n",
    "urlpatterns = [\n",
    "    path(\"\", TestAPIView.as_view()),\n",
    "    path(\"\", include(router.urls))\n",
    "]"
   ]
  },
  {
   "cell_type": "markdown",
   "id": "188b960d-1ab8-49f8-bea9-15efab3e81a7",
   "metadata": {},
   "source": [
    "### Agregar los metodos de create, retrive, update, partial_update y destroy"
   ]
  },
  {
   "cell_type": "code",
   "execution_count": null,
   "id": "d0cef079-aafd-44fc-9f89-7d2826d7f486",
   "metadata": {},
   "outputs": [],
   "source": [
    "src/rest_examples/views.py"
   ]
  },
  {
   "cell_type": "code",
   "execution_count": null,
   "id": "99598401-2424-459f-bc6d-70c2eec38537",
   "metadata": {},
   "outputs": [],
   "source": [
    "class TestViewset(ViewSet):\n",
    "    serializer_class = TEstSerializer\n",
    "    \"\"\"Test API Viewset\"\"\"\n",
    "\n",
    "    def list(self, request):\n",
    "        \"\"\"Regresa un listado de caracteristicas de los viewsets\"\"\"\n",
    "        viewset_info = [\n",
    "            \"Usa acciones (list, create, retive, update, partial_update, destroy)\",\n",
    "            \"Se mapea automaticamente a los URL usando routers\",\n",
    "            \"Provee mas funcionalidad con menos codigo\"\n",
    "        ]\n",
    "\n",
    "        return Response({\"message\":\"Hola\", \"viewset_info\": viewset_info})\n",
    "    \n",
    "    def create(self, request):\n",
    "        \"\"\"Crea un mensaje de saludo\"\"\"\n",
    "        serializer = self.serializer_class(data=request.data)\n",
    "\n",
    "        if serializer.is_valid():\n",
    "            name = serializer.validated_data.get(\"name\")\n",
    "            message = f\"Hola {name}\"\n",
    "            return Response({\"message\": message})\n",
    "        else:\n",
    "            return Response(serializer.errors, status=status.HTTP_400_BAD_REQUEST)\n",
    "        \n",
    "    def retrieve(self, request, pk=None):\n",
    "        \"\"\"Maneja la consulta de un objeto por su ID\"\"\"\n",
    "        return Response({\"method\":\"GET\"})\n",
    "    \n",
    "    def update(self, request, pk=None):\n",
    "        \"\"\"Maneja la actualizacion de un objeto por su ID\"\"\"\n",
    "        return Response({\"method\":\"PUT\"})\n",
    "\n",
    "    def partial_update(self, request, pk=None):\n",
    "        \"\"\"Maneja la actualizacion parcial de un objeto por su ID\"\"\"\n",
    "        return Response({\"method\":\"PATCH\"})\n",
    "    \n",
    "    def destroy(self, request, pk=None):\n",
    "        \"\"\"Maneja la eliminacion de un objeto por su ID\"\"\"\n",
    "        return Response({\"method\":\"DELETE\"})"
   ]
  }
 ],
 "metadata": {
  "kernelspec": {
   "display_name": "Python [conda env:base] *",
   "language": "python",
   "name": "conda-base-py"
  },
  "language_info": {
   "codemirror_mode": {
    "name": "ipython",
    "version": 3
   },
   "file_extension": ".py",
   "mimetype": "text/x-python",
   "name": "python",
   "nbconvert_exporter": "python",
   "pygments_lexer": "ipython3",
   "version": "3.12.7"
  }
 },
 "nbformat": 4,
 "nbformat_minor": 5
}
