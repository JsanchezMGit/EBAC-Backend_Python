{
 "cells": [
  {
   "cell_type": "markdown",
   "id": "5f8b7c82-564c-487a-83b5-bb5d8da7c8fc",
   "metadata": {},
   "source": [
    "## Arquitectura servidor-cliente"
   ]
  },
  {
   "cell_type": "markdown",
   "id": "9cbb0f93-71f6-4874-ae28-654bcb5e8867",
   "metadata": {},
   "source": [
    "![Alt text](https://upload.wikimedia.org/wikipedia/commons/1/1c/Cliente-Servidor.png \"C/S\")"
   ]
  },
  {
   "cell_type": "markdown",
   "id": "ac5645c6-e7eb-44ab-a70a-b4f11c12dd4d",
   "metadata": {},
   "source": [
    "### Cliente\n",
    "- Inicio solicitudes o peticiones (request), adopta un rol de maestro o amo\n",
    "- Espera y recibe las respuestas del servidor\n",
    "- Puede conectarse a varios servidores a la vez\n",
    "- Interactura irectamente con los usuarios mediante una interfaz grafica\n",
    "\n",
    "### Servidor\n",
    "- Recibe solicitudes o peticiones, adopta un rol de esclavo\n",
    "- Recepcion de una solicitud, procesamiento y enviar respuesta\n",
    "- Por lo general, acepta conexiones de un gran numero de clientes"
   ]
  },
  {
   "cell_type": "markdown",
   "id": "5bde2852-affb-4cc1-bfd1-50eccb0333d4",
   "metadata": {},
   "source": [
    "## Definicion de REST\n",
    "Es una interfaz para conectar varios sistemas usando el **protocolo HTTP**\n",
    "Formatos: JSON y XML\n",
    "Verbos HTTP:\n",
    "- GET\n",
    "- POST\n",
    "- PUT\n",
    "- PATCH\n",
    "- DELETE\n",
    "\n",
    "Pincipios:\n",
    "- Arquitectura Cliente-Servidor\n",
    "- Ausencia de Estado\n",
    "- Habilitacion y uso de cache\n",
    "- Sistema de capas\n",
    "- Interfaz uniforme\n",
    "    - Identificaion de recursos en las peticiones\n",
    "    - Manipulacion de recursos a traves de representaciones\n",
    "    - Mensajes auto-descriptivos\n",
    "    - Hipermedia como motor del estado de aplicacion"
   ]
  },
  {
   "cell_type": "markdown",
   "id": "1aa4b112-e799-4411-a1b7-dda0fa4655a0",
   "metadata": {},
   "source": [
    "## Intro a JSON\n",
    "Bastante parecido a los diccionarios de python\n",
    "\n",
    "### Difeencias de JSON con los Diccionarios de Python\n",
    "\n",
    "- En JSON siempre son necesarias las comillas doble (\") para los nombres de las propiedades y/o valores de cadena\n",
    "- En JSON True/False se escribe en minusculas (true/false)\n",
    "- En JSON el ultimo elemento no debe llevar una coma.\n",
    "\n",
    "## Metodos HTTP y APIView"
   ]
  },
  {
   "cell_type": "code",
   "execution_count": null,
   "id": "44b929ab-4041-4e63-b12d-f5b5c1424914",
   "metadata": {},
   "outputs": [],
   "source": [
    "docker exec -it hellodjango-web-1 bash"
   ]
  },
  {
   "cell_type": "code",
   "execution_count": null,
   "id": "3f91a4a1-b50f-47fb-8de3-1f3541861079",
   "metadata": {},
   "outputs": [],
   "source": [
    "python manage.py startapp api"
   ]
  },
  {
   "cell_type": "code",
   "execution_count": null,
   "id": "2fbf4587-138e-44c6-96f2-819abe6450ac",
   "metadata": {},
   "outputs": [],
   "source": [
    "src/config/settings.py"
   ]
  },
  {
   "cell_type": "code",
   "execution_count": null,
   "id": "4455d279-463f-4300-b530-a4f182065c6f",
   "metadata": {},
   "outputs": [],
   "source": [
    "#...\n",
    "INSTALLED_APPS = [\n",
    "    \"api.apps.ApiConfig\",#<-----\n",
    "    \"test_templates.apps.TestTemplatesConfig\",\n",
    "    \"forms_test.apps.FormsTestConfig\",\n",
    "    \"pages.apps.PagesConfig\",\n",
    "    \"products.apps.ProductsConfig\",\n",
    "    \"ecommerce.apps.EcommerceConfig\",\n",
    "    \"base.apps.BaseConfig\",\n",
    "    \"django.contrib.admin\",\n",
    "    \"django.contrib.auth\",\n",
    "    \"django.contrib.contenttypes\",\n",
    "    \"django.contrib.sessions\",\n",
    "    \"django.contrib.messages\",\n",
    "    \"django.contrib.staticfiles\",\n",
    "    \"rest_framework\"#<-----\n",
    "]\n",
    "#..."
   ]
  },
  {
   "cell_type": "code",
   "execution_count": null,
   "id": "a4667b22-7127-4787-b8da-51aa5a0ee235",
   "metadata": {},
   "outputs": [],
   "source": [
    "src/api/views.py"
   ]
  },
  {
   "cell_type": "code",
   "execution_count": null,
   "id": "9ccf000d-34ab-4487-a419-ec9dfac9ea16",
   "metadata": {},
   "outputs": [],
   "source": [
    "from rest_framework import views\n",
    "from rest_framework.response import Response\n",
    "\n",
    "class ProductAPIView(views.APIView):\n",
    "    def get(self, request):\n",
    "        content = {\n",
    "            \"Estás Llamando el método GET\"\n",
    "        }\n",
    "        return Response(content)\n",
    "    \n",
    "    def post(self, request):\n",
    "        content = {\n",
    "            \"Estás Llamando el método POST\"\n",
    "        }\n",
    "        return Response(content)\n",
    "    \n",
    "    def put (self, request):\n",
    "        content = {\n",
    "            \"Estás Llamando el método PUT\"\n",
    "        }\n",
    "        return Response (content)\n",
    "    \n",
    "    def patch(self, request):\n",
    "        content = {\n",
    "            \"Estás Llamando el método PATCH\"\n",
    "        }\n",
    "        return Response (content)\n",
    "    \n",
    "    def delete(self, request):\n",
    "        content = {\n",
    "            \"Estás Llamando el método DELETE\"\n",
    "        }\n",
    "        return Response(content)"
   ]
  },
  {
   "cell_type": "code",
   "execution_count": null,
   "id": "7846b99a-9be7-4a80-9ee9-a5ba00e75bbb",
   "metadata": {},
   "outputs": [],
   "source": [
    "pip install djangorestframework"
   ]
  },
  {
   "cell_type": "code",
   "execution_count": null,
   "id": "7f66e27d-6e75-424d-961a-8559f8af180a",
   "metadata": {},
   "outputs": [],
   "source": [
    "python -m pip freeze > requirements.txt"
   ]
  },
  {
   "cell_type": "code",
   "execution_count": null,
   "id": "6c71b737-bd2d-46a4-ad27-2a94390d69cb",
   "metadata": {},
   "outputs": [],
   "source": [
    "docker compose up --build"
   ]
  },
  {
   "cell_type": "code",
   "execution_count": null,
   "id": "8b51849c-e257-4b69-9238-d343b261c5be",
   "metadata": {},
   "outputs": [],
   "source": [
    "src/api/urls.py"
   ]
  },
  {
   "cell_type": "code",
   "execution_count": null,
   "id": "a868b657-6025-4384-b978-c21e11aa3bb7",
   "metadata": {},
   "outputs": [],
   "source": [
    "from django.urls import path\n",
    "\n",
    "from .views import ProductAPIView\n",
    "\n",
    "ulrpatterns = [\n",
    "    path('', ProductAPIView.as_view())\n",
    "]"
   ]
  },
  {
   "cell_type": "code",
   "execution_count": null,
   "id": "5f08d3ae-ef87-4259-8e76-5107cb9eba62",
   "metadata": {},
   "outputs": [],
   "source": [
    "src/config/urls.py"
   ]
  },
  {
   "cell_type": "code",
   "execution_count": null,
   "id": "28c220d6-9753-45ea-b014-12238f1a906c",
   "metadata": {},
   "outputs": [],
   "source": [
    "#...\n",
    "urlpatterns = [\n",
    "    path(\"up/\", include(\"up.urls\")),\n",
    "    path(\"\", include(\"pages.urls\")),\n",
    "    path(\"ecommerce/\", include(\"ecommerce.urls\")),\n",
    "    path(\"products/\", include(\"products.urls\")),\n",
    "    path(\"admin/\", admin.site.urls),\n",
    "    path(\"forms/\", include(\"forms_test.urls\")),\n",
    "    path(\"templates/\", include(\"test_templates.urls\")),\n",
    "    path(\"api/v1/\", include(\"api.urls\"))#<-----\n",
    "]\n",
    "#..."
   ]
  }
 ],
 "metadata": {
  "kernelspec": {
   "display_name": "Python [conda env:base] *",
   "language": "python",
   "name": "conda-base-py"
  },
  "language_info": {
   "codemirror_mode": {
    "name": "ipython",
    "version": 3
   },
   "file_extension": ".py",
   "mimetype": "text/x-python",
   "name": "python",
   "nbconvert_exporter": "python",
   "pygments_lexer": "ipython3",
   "version": "3.12.7"
  }
 },
 "nbformat": 4,
 "nbformat_minor": 5
}
