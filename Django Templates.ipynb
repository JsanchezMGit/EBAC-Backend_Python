{
 "cells": [
  {
   "cell_type": "markdown",
   "id": "72083d46-82b5-4f23-814b-d7af4aa62d7d",
   "metadata": {},
   "source": [
    "## Filtros en los templates"
   ]
  },
  {
   "cell_type": "code",
   "execution_count": null,
   "id": "e8d597ae-05d8-4a0e-9374-439382a5d107",
   "metadata": {},
   "outputs": [],
   "source": [
    "src/test_templates/views.py"
   ]
  },
  {
   "cell_type": "code",
   "execution_count": null,
   "id": "0489f938-54ec-4d09-874a-080d0c8dec87",
   "metadata": {},
   "outputs": [],
   "source": [
    "from django.shortcuts import render\n",
    "from datetime import datetime\n",
    "\n",
    "def test_view(request):\n",
    "    context = {\n",
    "        'view_title': 'MI TITULO INCREIBLE',\n",
    "        'my_number': 675,\n",
    "        'my_number2': 2000,\n",
    "        'today': datetime.now().today()\n",
    "\n",
    "    }\n",
    "    template = 'test_templates/test-view.html'\n",
    "    return render(request, template, context)"
   ]
  },
  {
   "cell_type": "code",
   "execution_count": null,
   "id": "065e548e-5fed-47e9-a6c9-fff6c20e98e8",
   "metadata": {},
   "outputs": [],
   "source": [
    "src/test_templates/urls.py"
   ]
  },
  {
   "cell_type": "code",
   "execution_count": null,
   "id": "e4847b43-86ca-4a46-8294-60f2f6a157d3",
   "metadata": {},
   "outputs": [],
   "source": [
    "from django.contrib import admin\n",
    "from django.urls import path\n",
    "\n",
    "from .views import test_view\n",
    "\n",
    "urlpatterns = [\n",
    "    path(\"admin/\", admin.site.urls),\n",
    "    path(\"\", test_view),\n",
    "]"
   ]
  },
  {
   "cell_type": "code",
   "execution_count": null,
   "id": "ffbc1079-da62-4c24-8af3-5e63113a2b9c",
   "metadata": {},
   "outputs": [],
   "source": [
    "src/config/settings.py"
   ]
  },
  {
   "cell_type": "code",
   "execution_count": null,
   "id": "1804c7d0-c2a1-4318-aea5-bc05ceaaa58d",
   "metadata": {},
   "outputs": [],
   "source": [
    "#...\n",
    "INSTALLED_APPS = [\n",
    "    \"test_templates.apps.TestTemplatesConfig\",#<-----\n",
    "    \"forms_test.apps.FormsTestConfig\",\n",
    "    \"pages.apps.PagesConfig\",\n",
    "    \"products.apps.ProductsConfig\",\n",
    "    \"ecommerce.apps.EcommerceConfig\",\n",
    "    \"base.apps.BaseConfig\",\n",
    "    \"django.contrib.admin\",\n",
    "    \"django.contrib.auth\",\n",
    "    \"django.contrib.contenttypes\",\n",
    "    \"django.contrib.sessions\",\n",
    "    \"django.contrib.messages\",\n",
    "    \"django.contrib.staticfiles\",\n",
    "]\n",
    "#..."
   ]
  },
  {
   "cell_type": "code",
   "execution_count": null,
   "id": "3324c132-474a-4081-b931-4496a7a28a93",
   "metadata": {},
   "outputs": [],
   "source": [
    "https://docs.djangoproject.com/en/5.2/topics/templates/#filters"
   ]
  },
  {
   "cell_type": "code",
   "execution_count": null,
   "id": "c4805832-11bc-436b-b87c-cccfcf00ab32",
   "metadata": {},
   "outputs": [],
   "source": [
    "src/templates/test_templates/test-view.html"
   ]
  },
  {
   "cell_type": "code",
   "execution_count": null,
   "id": "50ba1bf8-33d2-4842-8539-f334545488f0",
   "metadata": {},
   "outputs": [],
   "source": [
    "<h1>{{ view_title|title }}</h1>\n",
    "<h1>{{ view_title|lower }}</h1>\n",
    "<br/><br/>\n",
    "{{ my_number|add:300 }}\n",
    "<br/><br/>\n",
    "{{ my_number|add:my_number2 }}\n",
    "<br/><br/>\n",
    "{{ today|date:\"D d M Y f a\" }}"
   ]
  },
  {
   "cell_type": "code",
   "execution_count": null,
   "id": "4ae04174-5f13-4a87-a16a-c64657cdc843",
   "metadata": {},
   "outputs": [],
   "source": [
    "src/config/urls.py"
   ]
  },
  {
   "cell_type": "code",
   "execution_count": null,
   "id": "cce80163-00b4-4f22-a7ab-2d03095ddcec",
   "metadata": {},
   "outputs": [],
   "source": [
    "#...\n",
    "urlpatterns = [\n",
    "    path(\"up/\", include(\"up.urls\")),\n",
    "    path(\"\", include(\"pages.urls\")),\n",
    "    path(\"ecommerce/\", include(\"ecommerce.urls\")),\n",
    "    path(\"products/\", include(\"products.urls\")),\n",
    "    path(\"admin/\", admin.site.urls),\n",
    "    path(\"forms/\", include(\"forms_test.urls\")),\n",
    "    path(\"templates/\", include(\"test_templates.urls\"))#<-----\n",
    "]\n",
    "#..."
   ]
  },
  {
   "cell_type": "markdown",
   "id": "e6ba4e10-4311-432f-bf0d-ab9ca1016bfa",
   "metadata": {},
   "source": [
    "## Ciclos for en Django Templates"
   ]
  },
  {
   "cell_type": "code",
   "execution_count": null,
   "id": "3bdab4a9-33f4-4fec-8400-cc8c4b652c06",
   "metadata": {},
   "outputs": [],
   "source": [
    "src/test_templates/views.py"
   ]
  },
  {
   "cell_type": "code",
   "execution_count": null,
   "id": "097f9893-f3c9-4e88-9ae9-c51419b7bc99",
   "metadata": {},
   "outputs": [],
   "source": [
    "from django.shortcuts import render\n",
    "from datetime import datetime\n",
    "\n",
    "def test_view(request):\n",
    "    my_list = ['Mouse', 'Laptop', 'Teclado', 'Audifonos', 'Multicontactos', 'Celular']\n",
    "    context = {\n",
    "        'view_title': 'MI TITULO INCREIBLE',\n",
    "        'my_number': 675,\n",
    "        'my_number2': 2000,\n",
    "        'today': datetime.now().today(),\n",
    "        'my_lisr': my_list\n",
    "    }\n",
    "    template = 'test_templates/test-view.html'\n",
    "    return render(request, template, context)"
   ]
  },
  {
   "cell_type": "code",
   "execution_count": null,
   "id": "80777053-8c59-4e03-b3c8-70c74e5517f3",
   "metadata": {},
   "outputs": [],
   "source": [
    "src/templates/test_templates/test-view.html"
   ]
  },
  {
   "cell_type": "code",
   "execution_count": null,
   "id": "75d1c17a-5042-40bb-b6f2-2ff1f1154e62",
   "metadata": {},
   "outputs": [],
   "source": [
    "<h1>{{ view_title|title }}</h1>\n",
    "<h1>{{ view_title|lower }}</h1>\n",
    "<br/><br/>\n",
    "{{ my_number|add:300 }}\n",
    "<br/><br/>\n",
    "{{ my_number|add:my_number2 }}\n",
    "<br/><br/>\n",
    "{{ today|date:\"D d M Y f a\" }}\n",
    "\n",
    "<style>\n",
    "    .bold {\n",
    "        font-weight: bold;\n",
    "    }\n",
    "</style>\n",
    "\n",
    "<ul>\n",
    "    {% for obj in my_list %}\n",
    "    <li {% if forloop.first %} class=\"bold\"{% endif %}>\n",
    "        {{ forloop.counter }} {{obj}}\n",
    "    </li>\n",
    "    {% endfor %}\n",
    "</ul>\n",
    "\n",
    "<ul>\n",
    "    {% for obj in my_list %}\n",
    "    <li {% if forloop.counter|divisibleby:2 %} class=\"bold\"{% endif %}>\n",
    "        {{ forloop.counter }} {{obj}}\n",
    "    </li>\n",
    "    {% endfor %}\n",
    "</ul>\n",
    "\n",
    "<ul>\n",
    "    {% for obj in my_list %}\n",
    "    <li {% if forloop.counter|add:1|divisibleby:2 %} class=\"bold\"{% endif %}>\n",
    "        {{ forloop.counter }} {{obj}}\n",
    "    </li>\n",
    "    {% endfor %}\n",
    "</ul>\n",
    "\n",
    "<ul>\n",
    "    {% for obj in my_list %}\n",
    "    <li class='{% cycle \"\" \"\" \"bold\" %}'>\n",
    "        {{ forloop.counter }} {{obj}}\n",
    "    </li>\n",
    "    {% endfor %}\n",
    "</ul>\n",
    "\n",
    "<ul>\n",
    "    {% for obj in my_list %}\n",
    "    <li class='{% cycle \"\" \"\" \"\" \"bold\" %}'>\n",
    "        {{ forloop.counter }} {{obj}}\n",
    "    </li>\n",
    "    {% endfor %}\n",
    "</ul>"
   ]
  },
  {
   "cell_type": "markdown",
   "id": "22a772c8-40a4-46be-8a37-f612802bbc86",
   "metadata": {},
   "source": [
    "## Herencia en templates"
   ]
  },
  {
   "cell_type": "code",
   "execution_count": null,
   "id": "503ce5ae-6725-4012-8ff3-d7aa54ec1c12",
   "metadata": {},
   "outputs": [],
   "source": [
    "src/templates/test_templates/messages.html"
   ]
  },
  {
   "cell_type": "code",
   "execution_count": null,
   "id": "0f5309c3-1d9b-4f5c-ad0c-e4d12d15cc81",
   "metadata": {},
   "outputs": [],
   "source": [
    "{% if messages %}\n",
    "<ul class=\"messages\">\n",
    "    {% for message in messages %}\n",
    "    <li {% if message.tags %} class=\"{{ message.tags }}\" {% endif %}>{{message}}</li>\n",
    "    {% endfor %}\n",
    "</ul>\n",
    "{% endif %}"
   ]
  },
  {
   "cell_type": "code",
   "execution_count": null,
   "id": "4ebfdcae-5a89-43cb-8812-6be14ca9cd37",
   "metadata": {},
   "outputs": [],
   "source": [
    "src/templates/test_templates/base.html"
   ]
  },
  {
   "cell_type": "code",
   "execution_count": null,
   "id": "ab10c203-3ea5-47b3-bfef-958ff5d020e0",
   "metadata": {},
   "outputs": [],
   "source": [
    "<!DOCTYPE html>\n",
    "\n",
    "<head>\n",
    "    <title>{% block title %}Mi Titulo en base.html{% endblock title %}</title>\n",
    "    <style>\n",
    "        .bold {\n",
    "            font-weight: bold;\n",
    "        }\n",
    "    </style>\n",
    "</head>\n",
    "\n",
    "<html>\n",
    "    <body>\n",
    "        {% include 'test_templates/messages.html' %}\n",
    "\n",
    "        {% block content %}\n",
    "        Contenido de base.html\n",
    "        {% endblock content %}\n",
    "    </body>\n",
    "</html>"
   ]
  },
  {
   "cell_type": "code",
   "execution_count": null,
   "id": "6aac71d2-832e-453f-aa8f-16daf9f86a9d",
   "metadata": {},
   "outputs": [],
   "source": [
    "src/templates/test_templates/test-view2.html"
   ]
  },
  {
   "cell_type": "code",
   "execution_count": null,
   "id": "fb9ac2ba-e954-4f50-92f5-fa2c155a0aee",
   "metadata": {},
   "outputs": [],
   "source": [
    "{% extends 'test_templates/base.html' %}\n",
    "\n",
    "{% block title %}Mi ttulo en test-view2{% endblock title %}\n",
    "\n",
    "{% block content %}\n",
    "Contenido de test-view2.html\n",
    "{% endblock content %}"
   ]
  },
  {
   "cell_type": "code",
   "execution_count": null,
   "id": "cc3c4cab-25fe-4b8c-b563-68ca77e8f35d",
   "metadata": {},
   "outputs": [],
   "source": [
    "src/test_templates/views.py"
   ]
  },
  {
   "cell_type": "code",
   "execution_count": null,
   "id": "72adcdf4-6e56-4708-a4be-8192c0175c00",
   "metadata": {},
   "outputs": [],
   "source": [
    "from django.shortcuts import render\n",
    "from datetime import datetime\n",
    "from django.contrib import messages\n",
    "\n",
    "def test_view(request):\n",
    "    my_list = ['Mouse', 'Laptop', 'Teclado', 'Audifonos', 'Multicontactos', 'Celular']\n",
    "    context = {\n",
    "        'view_title': 'MI TITULO INCREIBLE',\n",
    "        'my_number': 675,\n",
    "        'my_number2': 2000,\n",
    "        'today': datetime.now().today(),\n",
    "        'my_list': my_list\n",
    "    }\n",
    "    template = 'test_templates/test-view2.html'\n",
    "    messages.add_message(request, messages.INFO, 'Mensaje de prueba 1')\n",
    "    messages.add_message(request, messages.INFO, 'Mensaje de prueba 2')\n",
    "    return render(request, template, context)"
   ]
  },
  {
   "cell_type": "markdown",
   "id": "2e29fecf-3935-4035-97e3-b5c539ce7580",
   "metadata": {},
   "source": [
    "## Include con variables en Django Templates"
   ]
  },
  {
   "cell_type": "code",
   "execution_count": null,
   "id": "a292faaf-4e9e-4352-8ffd-faf17e4b9b4e",
   "metadata": {},
   "outputs": [],
   "source": [
    "src/templates/test_templates/object-detail.html"
   ]
  },
  {
   "cell_type": "code",
   "execution_count": null,
   "id": "be9ff00b-4156-46f5-980c-735f3e4b6467",
   "metadata": {},
   "outputs": [],
   "source": [
    "{% block title %}Vista de detalle{% endblock title %}\n",
    "\n",
    "<br/>\n",
    "\n",
    "{{ object_title }}\n",
    "\n",
    "<br/>\n",
    "\n",
    "{{ price }}\n",
    "\n",
    "<br/>\n",
    "\n",
    "{{ created_at }}"
   ]
  },
  {
   "cell_type": "code",
   "execution_count": null,
   "id": "34bb9bad-50ea-4566-b6e1-f0d52aa9f8f8",
   "metadata": {},
   "outputs": [],
   "source": [
    "src/templates/test_templates/detail-view.html"
   ]
  },
  {
   "cell_type": "code",
   "execution_count": null,
   "id": "54b98da1-79cb-4128-8fff-4e73ae64f527",
   "metadata": {},
   "outputs": [],
   "source": [
    "{% extends 'test_templates/base.html' %}\n",
    "{% block content %}\n",
    "    {% include 'test_templates/object-detail.html' with object_title='Producto X' price=299.99 created_at=today %}\n",
    "{% endblock content %}"
   ]
  },
  {
   "cell_type": "code",
   "execution_count": null,
   "id": "4d631bbc-d58d-4d40-aadf-1bd0269d45d9",
   "metadata": {},
   "outputs": [],
   "source": [
    "src/test_templates/views.py"
   ]
  },
  {
   "cell_type": "code",
   "execution_count": null,
   "id": "0f8efbee-055b-4a80-8f1f-27715a92795e",
   "metadata": {},
   "outputs": [],
   "source": [
    "from django.shortcuts import render\n",
    "from datetime import datetime\n",
    "from django.contrib import messages\n",
    "\n",
    "def test_view(request):\n",
    "    my_list = ['Mouse', 'Laptop', 'Teclado', 'Audifonos', 'Multicontactos', 'Celular']\n",
    "    context = {\n",
    "        'view_title': 'MI TITULO INCREIBLE',\n",
    "        'my_number': 675,\n",
    "        'my_number2': 2000,\n",
    "        'today': datetime.now().today(),\n",
    "        'my_list': my_list\n",
    "    }\n",
    "    template = 'test_templates/detail-view.html'#<-----\n",
    "    messages.add_message(request, messages.INFO, 'Mensaje de prueba 1')\n",
    "    messages.add_message(request, messages.INFO, 'Mensaje de prueba 2')\n",
    "    return render(request, template, context)"
   ]
  }
 ],
 "metadata": {
  "kernelspec": {
   "display_name": "Python [conda env:base] *",
   "language": "python",
   "name": "conda-base-py"
  },
  "language_info": {
   "codemirror_mode": {
    "name": "ipython",
    "version": 3
   },
   "file_extension": ".py",
   "mimetype": "text/x-python",
   "name": "python",
   "nbconvert_exporter": "python",
   "pygments_lexer": "ipython3",
   "version": "3.12.7"
  }
 },
 "nbformat": 4,
 "nbformat_minor": 5
}
