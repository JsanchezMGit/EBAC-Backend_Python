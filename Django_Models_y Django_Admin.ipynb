{
 "cells": [
  {
   "cell_type": "markdown",
   "id": "6f8a1585-5632-4b4c-9fde-f252e878af37",
   "metadata": {},
   "source": [
    "## Hecer cambios en modelos"
   ]
  },
  {
   "cell_type": "code",
   "execution_count": null,
   "id": "354f9ade-0574-49f4-96f7-ecfa5d8e2742",
   "metadata": {},
   "outputs": [],
   "source": [
    "from django.db import models\n",
    "\n",
    "# Create your models here.\n",
    "class ProductModel(models.Model):\n",
    "    title = models.TextField()\n",
    "    price = models.FloatField()\n",
    "    description = models.TextField(null=True)"
   ]
  },
  {
   "cell_type": "markdown",
   "id": "0ebd6c39-3dc0-4381-9b29-58f55ee70bbd",
   "metadata": {},
   "source": [
    "python manage.py makemigrations\n",
    "python manage.py migrate"
   ]
  },
  {
   "cell_type": "code",
   "execution_count": null,
   "id": "37fac091-2863-4e66-bc18-f155ed9a40b3",
   "metadata": {},
   "outputs": [],
   "source": [
    "from django.db import models\n",
    "\n",
    "# Create your models here.\n",
    "class ProductModel(models.Model):\n",
    "    title = models.TextField()\n",
    "    price = models.FloatField()\n",
    "    description = models.TextField(null=True)\n",
    "    short_description = models.TextField(null=True)"
   ]
  },
  {
   "cell_type": "code",
   "execution_count": null,
   "id": "2acee27c-eb9f-46f0-ba46-3d28c9b37996",
   "metadata": {},
   "outputs": [],
   "source": [
    "python manage.py makemigrations\n",
    "python manage.py migrate"
   ]
  },
  {
   "cell_type": "markdown",
   "id": "b130f3cc-df71-4370-b013-9b9c16d0dae6",
   "metadata": {},
   "source": [
    "## Borrar un campo en un modelo"
   ]
  },
  {
   "cell_type": "code",
   "execution_count": null,
   "id": "119e3199-78b4-4ec7-a90b-e30dbb2d89f4",
   "metadata": {},
   "outputs": [],
   "source": [
    "from django.db import models\n",
    "\n",
    "# Create your models here.\n",
    "class ProductModel(models.Model):\n",
    "    title = models.TextField()\n",
    "    price = models.FloatField()\n",
    "    description = models.TextField(null=True)"
   ]
  },
  {
   "cell_type": "code",
   "execution_count": null,
   "id": "48926111-58da-48fd-ad8b-b01228ba23aa",
   "metadata": {},
   "outputs": [],
   "source": [
    "python manage.py makemigrations\n",
    "python manage.py migrate"
   ]
  },
  {
   "cell_type": "markdown",
   "id": "091f9f4b-c708-4a51-b6d1-67691dbbb855",
   "metadata": {},
   "source": [
    "## Borrar Migraciones y comprecion de migraciones"
   ]
  },
  {
   "cell_type": "code",
   "execution_count": null,
   "id": "2d237047-ab5d-43d4-876f-5487a4505bf6",
   "metadata": {},
   "outputs": [],
   "source": [
    "python manage.py squashmigrations <APP_LABEL> <MIGRATION_NUMBER>\n",
    "python manage.py squashmigrations ecommerce 0005\n",
    "python manage.py migrate"
   ]
  },
  {
   "cell_type": "markdown",
   "id": "7f2e43fb-c75d-4cdb-8b85-ed2082a7dadb",
   "metadata": {},
   "source": [
    "## Guardar datos usadndo shell de Django"
   ]
  },
  {
   "cell_type": "code",
   "execution_count": null,
   "id": "93a9e045-13b1-457f-bd23-a86173574042",
   "metadata": {},
   "outputs": [],
   "source": [
    "python manage.py shell"
   ]
  },
  {
   "cell_type": "code",
   "execution_count": null,
   "id": "9c19f474-bec6-480c-a1e5-16e0221470a8",
   "metadata": {},
   "outputs": [],
   "source": [
    "from ecommerce.models import ProductModel\n",
    "ProductModel.objects.create(title=\"Producto 1\", price=199.99)\n",
    "ProductModel.objects.create(title=\"Producto 1\", price=199.99, description=\"Es una prueba\")"
   ]
  },
  {
   "cell_type": "code",
   "execution_count": null,
   "id": "bde5892c-15a5-49fa-933e-623a4307d705",
   "metadata": {},
   "outputs": [],
   "source": [
    "Queryset: lista de todos los objetos almacenados para cierto modelo"
   ]
  },
  {
   "cell_type": "code",
   "execution_count": null,
   "id": "6e52c249-0fe7-4125-aab5-b1c0b3774ac9",
   "metadata": {},
   "outputs": [],
   "source": [
    "queryset = ProductModel.objects.all()\n",
    "qs = ProductModel.objects.all()"
   ]
  },
  {
   "cell_type": "code",
   "execution_count": null,
   "id": "ab4ab336-4dd7-4749-8189-9e6d3490558a",
   "metadata": {},
   "outputs": [],
   "source": [
    "queryset.filter(title__icontains=\"producto\")"
   ]
  },
  {
   "cell_type": "code",
   "execution_count": null,
   "id": "59f703b3-fcc1-4476-8fd6-93734a02fdb5",
   "metadata": {},
   "outputs": [],
   "source": [
    ">> my_products = ProductModel.objects.get(id=12)\n",
    ">> my_products.description\n",
    "'Es una prueba'\n",
    ">> my_products.price\n",
    "199.99\n",
    ">> my_products.price = 249.99\n",
    ">>> my_products.save()\n",
    ">> ProductModel.objects.get(id=11).delete()\n",
    "(1, {'ecommerce.ProductModel': 1})"
   ]
  },
  {
   "cell_type": "markdown",
   "id": "f41b6cd1-23a7-466d-9903-39735ace5649",
   "metadata": {},
   "source": [
    "## Validacion de campos en los modelos"
   ]
  },
  {
   "cell_type": "code",
   "execution_count": null,
   "id": "1d298329-095d-4c96-92d1-0bc7d5ceae7f",
   "metadata": {},
   "outputs": [],
   "source": [
    "ecommerce/validators.py"
   ]
  },
  {
   "cell_type": "code",
   "execution_count": null,
   "id": "52fd8c79-f731-4019-979f-be77a5a34ddb",
   "metadata": {},
   "outputs": [],
   "source": [
    "from django.core.exceptions import ValidationError\n",
    "\n",
    "BLOCKED_WORDS = [\n",
    "    \"barato\",\n",
    "    \"malo\"\n",
    "]\n",
    "\n",
    "def validate_blocked_words(value):\n",
    "    init_string = f\"{value}\".lower()\n",
    "    unique_words = set(init_string.split())\n",
    "    blocked_words = set(BLOCKED_WORDS)\n",
    "    invalid_words = (unique_words & blocked_words)\n",
    "    has_error = len(invalid_words) > 0\n",
    "    if has_error:\n",
    "        errors = []\n",
    "        for invalid_word in invalid_words:\n",
    "            msg = f\"{invalid_word} es una palabra no permitida\"\n",
    "            errors.append(msg)\n",
    "        raise ValidationError(errors)\n",
    "    return value"
   ]
  },
  {
   "cell_type": "code",
   "execution_count": null,
   "id": "d88a4716-a6d3-47f8-9909-68a599fb9683",
   "metadata": {},
   "outputs": [],
   "source": [
    "ecommerce/models.py"
   ]
  },
  {
   "cell_type": "code",
   "execution_count": null,
   "id": "bd0b80af-8d75-4fca-b375-967c3817d2d6",
   "metadata": {},
   "outputs": [],
   "source": [
    "from django.db import models\n",
    "from .validators import validate_blocked_words\n",
    "\n",
    "# Create your models here.\n",
    "class ProductModel(models.Model):\n",
    "    title = models.TextField()\n",
    "    price = models.FloatField()\n",
    "    description = models.TextField(null=True)\n",
    "\n",
    "    def save(self, *args, **kwargs):\n",
    "        validate_blocked_words(self.title)\n",
    "        super().save(*args, **kwargs)"
   ]
  },
  {
   "cell_type": "markdown",
   "id": "22629f6d-828c-4b01-8ce6-93f3bc9ef587",
   "metadata": {},
   "source": [
    "## ¿Como agregar opciones a campos de modelos?"
   ]
  },
  {
   "cell_type": "code",
   "execution_count": null,
   "id": "7770f5e1-4eea-4351-8f3d-4806e2fae05c",
   "metadata": {},
   "outputs": [],
   "source": [
    "from django.db import models\n",
    "from .validators import validate_blocked_words\n",
    "\n",
    "# (VALOR_EN_DB, VALOR_PARA_USUARIO)\n",
    "PUBLISH_STATE_CHOICES = [\n",
    "    (\"BR\", \"BORRADOR\"),\n",
    "    (\"PU\", \"PUBLICADO\"),\n",
    "    (\"PR\", \"PRIVADO\")\n",
    "]\n",
    "\n",
    "# Create your models here.\n",
    "class ProductModel(models.Model):\n",
    "    state = models.CharField(max_length=2, choices=PUBLISH_STATE_CHOICES, default=\"BR\")\n",
    "    title = models.TextField()\n",
    "    price = models.FloatField()\n",
    "    description = models.TextField(null=True)\n",
    "\n",
    "    def save(self, *args, **kwargs):\n",
    "        validate_blocked_words(self.title)\n",
    "        super().save(*args, **kwargs)\n",
    "\n",
    "    def is_published(self):\n",
    "        return self.state == \"PU\""
   ]
  },
  {
   "cell_type": "code",
   "execution_count": null,
   "id": "b69e0b2a-6bd4-4577-afbc-8a8c0c55af0d",
   "metadata": {},
   "outputs": [],
   "source": [
    "python manage.py makemigrations\n",
    "python manage.py migrate"
   ]
  },
  {
   "cell_type": "markdown",
   "id": "60c9384f-49f7-403d-b144-956e6fbc64a9",
   "metadata": {},
   "source": [
    "## ¿Como agregar opciones avanzadas a campos de modelos?"
   ]
  },
  {
   "cell_type": "code",
   "execution_count": null,
   "id": "da9b4876-28ef-427c-bfda-3a7c75a5f50a",
   "metadata": {},
   "outputs": [],
   "source": [
    "from django.db import models\n",
    "from .validators import validate_blocked_words\n",
    "\n",
    "# Create your models here.\n",
    "class ProductModel(models.Model):\n",
    "    class ProductStateOptions(models.TextChoices):\n",
    "        PUBLISHED = \"PU\" , \"PUBLICADO\"\n",
    "        RAFT = \"BR\" , \"BORRADOR\"\n",
    "        PRIVATE = \"PR\", \"PRIVADO\"\n",
    "    state = models.CharField(max_length=2, choices=PUBLISH_STATE_CHOICES, default=\"BR\")\n",
    "    title = models.TextField()\n",
    "    price = models.FloatField()\n",
    "    description = models.TextField(null=True)\n",
    "\n",
    "    def save(self, *args, **kwargs):\n",
    "        validate_blocked_words(self.title)\n",
    "        super().save(*args, **kwargs)\n",
    "\n",
    "    def is_published(self):\n",
    "        return self.state == self.ProductStateOptions.PUBLISHED"
   ]
  },
  {
   "cell_type": "code",
   "execution_count": null,
   "id": "d955a6bc-8c6d-468c-a546-7e4fc819bf87",
   "metadata": {},
   "outputs": [],
   "source": [
    "python manage.py makemigrations\n",
    "python manage.py migrate"
   ]
  },
  {
   "cell_type": "markdown",
   "id": "0f72dbe9-968a-4711-b5c7-1aaedfee1485",
   "metadata": {},
   "source": [
    "## Modelo abstarcto com base"
   ]
  },
  {
   "cell_type": "code",
   "execution_count": null,
   "id": "0b4b93c9-4522-4c6d-b926-dde2c915e21f",
   "metadata": {},
   "outputs": [],
   "source": [
    "python manage.py startapp base"
   ]
  },
  {
   "cell_type": "code",
   "execution_count": null,
   "id": "4b2f98eb-d38d-4f8e-a183-4c05abb60fbd",
   "metadata": {},
   "outputs": [],
   "source": [
    "base/models.py"
   ]
  },
  {
   "cell_type": "code",
   "execution_count": null,
   "id": "49456198-c7c1-4a1d-a9e9-2f034284af9e",
   "metadata": {},
   "outputs": [],
   "source": [
    "from django.db import models\n",
    "from django.utils import timezone\n",
    "\n",
    "\n",
    "class BasePublishModel(models.Model):\n",
    "    class PublishStateOptions(models.TextChoices):\n",
    "        PUBLISHED = \"PU\" , \"PUBLICADO\"\n",
    "        RAFT = \"BR\" , \"BORRADOR\"\n",
    "        PRIVATE = \"PR\", \"PRIVADO\"\n",
    "    state = models.CharField(max_length=2, choices=PublishStateOptions.choices, default=\"BR\")\n",
    "    timestamp = models.DateField(auto_now=True)\n",
    "    updated = models.DateField(auto_now=True)\n",
    "    publish_timestamp = models.DateField(auto_now=False, null=True)\n",
    "\n",
    "    class Meta:\n",
    "        abstract = True\n",
    "        ordering = [\"-updated\", \"-timestamp\"]\n",
    "\n",
    "    def save(self, *args, **kwargs):\n",
    "        if self.state_is_published and self.publish_timestamp is None:\n",
    "            self.publish_timestamp = timezone.now()\n",
    "        else:\n",
    "            self.publish_timestamp = None\n",
    "        super().save(*args, **kwargs)\n",
    "\n",
    "    @property\n",
    "    def state_is_published(self):\n",
    "        return self.state == self.PublishStateOptions.PUBLISHED\n",
    "\n",
    "    def is_published(self):\n",
    "        publish_timestamp = self.publish_timestamp\n",
    "        return self.state_is_published and publish_timestamp < timezone.now()"
   ]
  },
  {
   "cell_type": "code",
   "execution_count": null,
   "id": "60ccbe60-ff19-441d-a31f-0892fd3b527e",
   "metadata": {},
   "outputs": [],
   "source": [
    "ecommerce/models.py"
   ]
  },
  {
   "cell_type": "code",
   "execution_count": null,
   "id": "720268d0-7996-4f0a-9b12-53e2eb319189",
   "metadata": {},
   "outputs": [],
   "source": [
    "from django.db import models\n",
    "from base.models import BasePublishModel\n",
    "from .validators import validate_blocked_words\n",
    "\n",
    "class ProductModel(BasePublishModel):\n",
    "    title = models.TextField()\n",
    "    price = models.FloatField()\n",
    "    description = models.TextField(null=True)\n",
    "\n",
    "    def save(self, *args, **kwargs):\n",
    "        validate_blocked_words(self.title)\n",
    "        super().save(*args, **kwargs)"
   ]
  },
  {
   "cell_type": "code",
   "execution_count": null,
   "id": "da98dcc8-a198-4b58-bc4d-8a3461a48823",
   "metadata": {},
   "outputs": [],
   "source": [
    "config/settings.py"
   ]
  },
  {
   "cell_type": "code",
   "execution_count": null,
   "id": "b2cb8d45-5742-46b3-adac-b6189c432c3d",
   "metadata": {},
   "outputs": [],
   "source": [
    "...\n",
    "\n",
    "# Application definitions\n",
    "INSTALLED_APPS = [\n",
    "    \"pages.apps.PagesConfig\",\n",
    "    \"ecommerce.apps.EcommerceConfig\",#<-----\n",
    "    \"base.apps.BaseConfig\",\n",
    "    \"django.contrib.admin\",\n",
    "    \"django.contrib.auth\",\n",
    "    \"django.contrib.contenttypes\",\n",
    "    \"django.contrib.sessions\",\n",
    "    \"django.contrib.messages\",\n",
    "    \"django.contrib.staticfiles\",\n",
    "]\n",
    "\n",
    "..."
   ]
  },
  {
   "cell_type": "code",
   "execution_count": null,
   "id": "e9980b47-eeba-4587-bcda-2bac6fccf31d",
   "metadata": {},
   "outputs": [],
   "source": [
    "python manage.py makemigrations\n",
    "python manage.py migrate"
   ]
  },
  {
   "cell_type": "markdown",
   "id": "472538c3-914b-4698-ad5b-f2d28ece5995",
   "metadata": {},
   "source": [
    "## Creacion a granel"
   ]
  },
  {
   "cell_type": "code",
   "execution_count": null,
   "id": "9350871e-c267-422a-9367-cfd422a8e4b4",
   "metadata": {},
   "outputs": [],
   "source": [
    "products_data = []\n",
    "for i in range(1, 100):\n",
    "    new_data = {\"title\":\"Producto {}\".format(i) , \"price\": i*100+99.99}\n",
    "    products_data.append(new_data)"
   ]
  },
  {
   "cell_type": "code",
   "execution_count": null,
   "id": "43c6e6e4-874e-44dd-8a2c-a47af9a8553c",
   "metadata": {},
   "outputs": [],
   "source": [
    "from ecommerce.models import ProductModel\n",
    "new_objects = []\n",
    "for product_data in products_data:\n",
    "    print(product_data)\n",
    "    new_objects.append(ProductModel(**product_data))"
   ]
  },
  {
   "cell_type": "code",
   "execution_count": null,
   "id": "28e512f2-5b9c-498f-a68d-e3a10131d86f",
   "metadata": {},
   "outputs": [],
   "source": [
    "ProductModel.objects.bulk_create(new_objects, ignore_conflicts=True)"
   ]
  },
  {
   "cell_type": "markdown",
   "id": "387db120-8047-444a-bb90-f98da58a1c25",
   "metadata": {},
   "source": [
    "## SlugField y Señales en modelos"
   ]
  },
  {
   "cell_type": "code",
   "execution_count": null,
   "id": "d5752914-77ef-420a-b157-41257ebc3e69",
   "metadata": {},
   "outputs": [],
   "source": [
    "slug: se usa para los URL\n",
    "title: escritorio con altura ajustable\n",
    "slug: /escritorio-con-altura-ajustable\n",
    "url: www.mywebsite.com/escritorio-con-altura-ajustable\n",
    "url: www.mywebsite.com/1"
   ]
  },
  {
   "cell_type": "markdown",
   "id": "39994348-f3aa-4c1d-839a-86746e8a266a",
   "metadata": {},
   "source": [
    "Signals / Señales\n",
    "- pre_save\n",
    "- post_save\n",
    "- pre_delete\n",
    "- post_delete\n",
    "- pre_init\n",
    "- pre_migrate\n",
    "- post_migrate"
   ]
  },
  {
   "cell_type": "code",
   "execution_count": null,
   "id": "8f3022bf-4df2-4d0a-a73e-f6849f9e0d4c",
   "metadata": {},
   "outputs": [],
   "source": [
    "from django.db.models import signals\n",
    "dir(signals)"
   ]
  },
  {
   "cell_type": "markdown",
   "id": "6c4dab2f-afe8-491f-9b3e-2e8b5afacf15",
   "metadata": {},
   "source": [
    "ecommerce/models.py"
   ]
  },
  {
   "cell_type": "code",
   "execution_count": null,
   "id": "b22472b3-a543-43d2-8f26-4c2fc861a93c",
   "metadata": {},
   "outputs": [],
   "source": [
    "from django.db import models\n",
    "from base.models import BasePublishModel\n",
    "from .validators import validate_blocked_words\n",
    "from django.db.models.signals import pre_save\n",
    "from django.utils.text import slugify\n",
    "\n",
    "class ProductModel(BasePublishModel):\n",
    "    title = models.TextField()\n",
    "    price = models.FloatField()\n",
    "    description = models.TextField(null=True)\n",
    "    slug = models.SlugField(null=True, blank=True, db_index=True)\n",
    "\n",
    "    def get_absolute_url(self):\n",
    "        return f\"/product/{self.slug}\"\n",
    "\n",
    "    def save(self, *args, **kwargs):\n",
    "        validate_blocked_words(self.title)\n",
    "        super().save(*args, **kwargs)\n",
    "\n",
    "def slugify_pre_save(sender, instance, *args, **kwargs):\n",
    "    if instance.slug is None or instance.slug == \"\":\n",
    "        new_slug = slugify(instance.title)\n",
    "        MyModel = instance.__class__\n",
    "        qs = MyModel.objects.filter(slug__startswith=new_slug).exclude(id=instance.id)\n",
    "        if qs.count() == 0:\n",
    "            instance.slug = new_slug\n",
    "        else:\n",
    "            instance.slug = f\"{new_slug}-{qs.count()}\"\n",
    "\n",
    "pre_save.connect(slugify_pre_save, sender=ProductModel)"
   ]
  },
  {
   "cell_type": "code",
   "execution_count": null,
   "id": "2cd03998-b0ea-41ca-abd4-2353fd5d70d9",
   "metadata": {},
   "outputs": [],
   "source": [
    "python manage.py makemigrations\n",
    "python manage.py migrate"
   ]
  },
  {
   "cell_type": "markdown",
   "id": "9ff5c207-c732-4408-9a8c-bf7418b183c8",
   "metadata": {},
   "source": [
    "## Fixtures para cargar datos"
   ]
  },
  {
   "cell_type": "code",
   "execution_count": null,
   "id": "55c05d4f-1c57-438d-8802-ebe88340c0e3",
   "metadata": {},
   "outputs": [],
   "source": [
    "python manage.py dumpdata ecommerce --indent 4 --format json"
   ]
  },
  {
   "cell_type": "code",
   "execution_count": null,
   "id": "6174ee92-d351-4cc4-ade0-11cfde95e052",
   "metadata": {},
   "outputs": [],
   "source": [
    "python manage.py dumpdata ecommerce --indent 4 --format json > ecommerce/fixtures/ecommerce/ProductModel.json"
   ]
  },
  {
   "cell_type": "code",
   "execution_count": null,
   "id": "9c86d6ad-a60c-4d94-9995-3ce8ee69d240",
   "metadata": {},
   "outputs": [],
   "source": [
    "python manage.py loaddata ecommerce/fixtures/ProductModel.json"
   ]
  },
  {
   "cell_type": "markdown",
   "id": "8c299555-9d47-47e6-944c-9430eb770cfe",
   "metadata": {},
   "source": [
    "## Llaves foraneas en modelos"
   ]
  },
  {
   "cell_type": "code",
   "execution_count": null,
   "id": "f04e24bc-7efd-40cb-84d2-025c9b8663eb",
   "metadata": {},
   "outputs": [],
   "source": [
    "ecommerce/models.py"
   ]
  },
  {
   "cell_type": "code",
   "execution_count": null,
   "id": "cca8c65a-37cf-408c-8d9a-6557f99da991",
   "metadata": {},
   "outputs": [],
   "source": [
    "from django.db import models\n",
    "from base.models import BasePublishModel\n",
    "from .validators import validate_blocked_words\n",
    "from django.db.models.signals import pre_save\n",
    "from django.utils.text import slugify\n",
    "from django.conf import settings#<-----\n",
    "\n",
    "User = settings.AUTH_USER_MODEL#<-----\n",
    "\n",
    "class ProductModel(BasePublishModel):\n",
    "    title = models.TextField()\n",
    "    price = models.FloatField()\n",
    "    description = models.TextField(null=True)\n",
    "    slug = models.SlugField(null=True, blank=True, db_index=True)\n",
    "    user = models.ForeignKey(User, null=True, on_delete=models.SET_NULL)#<-----\n",
    "\n",
    "    def get_absolute_url(self):\n",
    "        return f\"/product/{self.slug}\"\n",
    "\n",
    "    def save(self, *args, **kwargs):\n",
    "        validate_blocked_words(self.title)\n",
    "        super().save(*args, **kwargs)\n",
    "\n",
    "def slugify_pre_save(sender, instance, *args, **kwargs):\n",
    "    if instance.slug is None or instance.slug == \"\":\n",
    "        new_slug = slugify(instance.title)\n",
    "        MyModel = instance.__class__\n",
    "        qs = MyModel.objects.filter(slug__startswith=new_slug).exclude(id=instance.id)\n",
    "        if qs.count() == 0:\n",
    "            instance.slug = new_slug\n",
    "        else:\n",
    "            instance.slug = f\"{new_slug}-{qs.count()}\"\n",
    "\n",
    "pre_save.connect(slugify_pre_save, sender=ProductModel)"
   ]
  },
  {
   "cell_type": "code",
   "execution_count": null,
   "id": "060dd858-c588-4818-83bc-40e4463162ae",
   "metadata": {},
   "outputs": [],
   "source": [
    "python manage.py makemigrations\n",
    "python manage.py migrate"
   ]
  }
 ],
 "metadata": {
  "kernelspec": {
   "display_name": "Python [conda env:base] *",
   "language": "python",
   "name": "conda-base-py"
  },
  "language_info": {
   "codemirror_mode": {
    "name": "ipython",
    "version": 3
   },
   "file_extension": ".py",
   "mimetype": "text/x-python",
   "name": "python",
   "nbconvert_exporter": "python",
   "pygments_lexer": "ipython3",
   "version": "3.12.7"
  }
 },
 "nbformat": 4,
 "nbformat_minor": 5
}
