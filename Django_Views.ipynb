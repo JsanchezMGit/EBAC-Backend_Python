{
 "cells": [
  {
   "cell_type": "markdown",
   "id": "6c8b47b0-9cc2-497b-bf47-4644e7612c05",
   "metadata": {},
   "source": [
    "## Creando una Vista hardcodeada\n",
    "Views - Vistas\n",
    "- Vistas basadas en funciones\n",
    "- Vistas basadas en clases\n",
    "\n",
    "### ¿Como crear una aplicacion en Django?\n",
    "python manage.py startapp\n",
    "python manage.py startapp ecommerce\n",
    "- Funciones - nombrarlas con minusculas\n",
    "- Clases nombrarlas con mayusculas\n",
    "\n",
    "### ecommerce/views.py"
   ]
  },
  {
   "cell_type": "code",
   "execution_count": null,
   "id": "56a8b4ab-9bd9-466f-8e37-75d9f763c62a",
   "metadata": {},
   "outputs": [],
   "source": [
    "from django.shortcuts import render\n",
    "from django.http import HttpResponse\n",
    "\n",
    "def home(request):\n",
    "    return HttpResponse(\"<h1>Hola Mundo</h1>\")"
   ]
  },
  {
   "cell_type": "markdown",
   "id": "143db523-e6d8-4790-b50d-f4d534fc0478",
   "metadata": {},
   "source": [
    "### ecommerce/urls.py"
   ]
  },
  {
   "cell_type": "code",
   "execution_count": null,
   "id": "7225397f-be41-412c-a009-8569eb07197b",
   "metadata": {},
   "outputs": [],
   "source": [
    "from django.urls import path\n",
    "\n",
    "from ecommerce import views\n",
    "\n",
    "urlpatterns = [\n",
    "    path(\"\", views.home, name=\"home\"),\n",
    "]\n"
   ]
  },
  {
   "cell_type": "markdown",
   "id": "90d2b4e2-01c7-4aa7-bc22-bce4aa078a7a",
   "metadata": {},
   "source": [
    "### config/urls.py"
   ]
  },
  {
   "cell_type": "code",
   "execution_count": null,
   "id": "dcaf1d29-b6a3-40e0-ae8b-fa19bbd3698f",
   "metadata": {},
   "outputs": [],
   "source": [
    "from django.conf import settings\n",
    "from django.contrib import admin\n",
    "from django.urls import include, path\n",
    "\n",
    "urlpatterns = [\n",
    "    path(\"up/\", include(\"up.urls\")),\n",
    "    path(\"\", include(\"pages.urls\")),\n",
    "    path(\"ecommerce/\", include(\"ecommerce.urls\")),#<-----------------\n",
    "    path(\"admin/\", admin.site.urls),\n",
    "]\n",
    "if not settings.TESTING:\n",
    "    urlpatterns = [\n",
    "        *urlpatterns,\n",
    "        path(\"__debug__/\", include(\"debug_toolbar.urls\")),\n",
    "    ]"
   ]
  },
  {
   "cell_type": "markdown",
   "id": "efd414a8-2942-4f49-98cc-5579b11653a2",
   "metadata": {},
   "source": [
    "## Respuesta http y redireccionamiento\n",
    "\n",
    "middlewares: procesos intermedios entre un request y un response\n",
    "\n"
   ]
  },
  {
   "cell_type": "code",
   "execution_count": null,
   "id": "523eb42b-7c61-4760-908a-fec94f3ba55f",
   "metadata": {},
   "outputs": [],
   "source": [
    "from django.shortcuts import render\n",
    "from django.http import HttpResponse, HttpResponseRedirect\n",
    "\n",
    "# Create your views here.\n",
    "def home(request):\n",
    "    html = \"\"\"\n",
    "        <!DOCTYPE html>\n",
    "            <html>\n",
    "                <head>\n",
    "                    <style> h1 {color: blue}</style>\n",
    "                </head>\n",
    "                <body>\n",
    "                    <h1>Hola Mundo</h1>\n",
    "                </body>\n",
    "            </html>\n",
    "    \"\"\"\n",
    "    return HttpResponse(html)\n",
    "\n",
    "# def home(request):\n",
    "#     response = HttpResponse()\n",
    "#     response.write(\"<p>Pagina no encontrada</p>\")\n",
    "#     response.status_code = 404\n",
    "#     return response\n",
    "\n",
    "def redirect_to_test(request):\n",
    "    return HttpResponseRedirect(\"/ecommerce\")"
   ]
  },
  {
   "cell_type": "markdown",
   "id": "dc2ab4d8-14f0-4009-b6d7-24c823a1d277",
   "metadata": {},
   "source": [
    "## CRUD y vistas\n",
    "\n",
    "CRUD - Create, Retrive, Update, Delete\n",
    "\n",
    "(Crear, Consultar, Actualizar, Eliminar)\n",
    "\n",
    "- Crear modelos\n",
    "- Agregar la app a INSTALLED_APPS\n",
    "- Crear y aplicar migraciones\n",
    "\n",
    "### ecommerce/models.py"
   ]
  },
  {
   "cell_type": "code",
   "execution_count": null,
   "id": "44e837d8-c350-4a93-bf1c-4cc708a8e0de",
   "metadata": {},
   "outputs": [],
   "source": [
    "from django.db import models\n",
    "\n",
    "# Create your models here.\n",
    "class ProductModel(models.Model):\n",
    "    title = models.TextField()\n",
    "    price = models.FloatField()"
   ]
  },
  {
   "cell_type": "markdown",
   "id": "07a7f010-2a2d-430d-8b77-26aebeaff539",
   "metadata": {},
   "source": [
    "### config/settings.py"
   ]
  },
  {
   "cell_type": "code",
   "execution_count": null,
   "id": "966d815e-4a3d-4d3f-a033-0b41f9e6ca76",
   "metadata": {},
   "outputs": [],
   "source": [
    "...\n",
    "INSTALLED_APPS = [\n",
    "    \"pages.apps.PagesConfig\",\n",
    "    \"pages.apps.EcommerceConfig\",#<-------\n",
    "    \"django.contrib.admin\",\n",
    "    \"django.contrib.auth\",\n",
    "    \"django.contrib.contenttypes\",\n",
    "    \"django.contrib.sessions\",\n",
    "    \"django.contrib.messages\",\n",
    "    \"django.contrib.staticfiles\",\n",
    "]\n",
    "..."
   ]
  },
  {
   "cell_type": "markdown",
   "id": "bccf5bca-cbe0-4bec-8b5b-66d0b2fe507a",
   "metadata": {},
   "source": [
    "## ¿Como crear migraciones?\n",
    "\n",
    "- python manage.py makemigrations\n",
    "- python manage.py migrate"
   ]
  },
  {
   "cell_type": "markdown",
   "id": "bf939f4b-4335-4d93-93f1-a24dfd8f83d8",
   "metadata": {},
   "source": [
    "## ¿Como registrar modelos en el admin?"
   ]
  },
  {
   "cell_type": "code",
   "execution_count": null,
   "id": "16c3144c-a597-4d67-b342-6d0e91384cc0",
   "metadata": {},
   "outputs": [],
   "source": [
    "from django.contrib import admin\n",
    "\n",
    "from .models import ProductModel\n",
    "\n",
    "# Register your models here.\n",
    "admin.site.register(ProductModel)"
   ]
  },
  {
   "cell_type": "markdown",
   "id": "d3b5c552-60a0-47d2-8aa6-dba4c787351c",
   "metadata": {},
   "source": [
    "## ¿Coo crear un superuser para el admin?\n",
    "\n",
    "- python manage.py createsuperuser"
   ]
  },
  {
   "cell_type": "markdown",
   "id": "c015c3a2-d61c-4b40-84e3-47c6188f2b8d",
   "metadata": {},
   "source": [
    "## Tipos basicos de Vistas\n",
    "\n",
    "- List View - donde ves los usuarios\n",
    "- Create View - donde puedes insertar los datos para crear un usuario\n",
    "- Retrieve and Update View - Si le doy click a un usuario creado y lo modifico\n",
    "- Delete View - boton rojo para eliminar y confirmar\n",
    "\n",
    "## ecommerce/views.py"
   ]
  },
  {
   "cell_type": "code",
   "execution_count": null,
   "id": "442c742a-fb26-4cd1-830f-af26809bdc42",
   "metadata": {},
   "outputs": [],
   "source": [
    "from django.shortcuts import render\n",
    "from django.http import HttpResponse, HttpResponseRedirect\n",
    "\n",
    "from .models import ProductModel\n",
    "\n",
    "# Create your views here.\n",
    "def product_model_list_view(request):\n",
    "    queryset = ProductModel.objects.all()\n",
    "    print(queryset)\n",
    "    return HttpResponse(\"Un ecommerce personalizado\")"
   ]
  },
  {
   "cell_type": "markdown",
   "id": "69a244c3-4d30-455a-a20c-5de6bc0ecee2",
   "metadata": {},
   "source": [
    "## Usando templates\n",
    "\n",
    "### ecommerce/views.py"
   ]
  },
  {
   "cell_type": "code",
   "execution_count": null,
   "id": "376d1398-6e3f-48c4-a4cb-6d69b96b530d",
   "metadata": {},
   "outputs": [],
   "source": [
    "from django.shortcuts import render\n",
    "from django.http import HttpResponse, HttpResponseRedirect\n",
    "\n",
    "from .models import ProductModel\n",
    "\n",
    "# Create your views here.\n",
    "def product_model_list_view(request):\n",
    "    queryset = ProductModel.objects.all()\n",
    "    print(queryset)\n",
    "    template = \"ecommerce/list-view.html\"\n",
    "    context = {}\n",
    "    return render(request, template, context)"
   ]
  },
  {
   "cell_type": "markdown",
   "id": "88cb434f-dd74-419e-ba65-b8d8fc74f320",
   "metadata": {},
   "source": [
    "## templates/ecommerce/list-view.html"
   ]
  },
  {
   "cell_type": "code",
   "execution_count": null,
   "id": "388001aa-7cb4-4983-9317-43dffda3c1d1",
   "metadata": {},
   "outputs": [],
   "source": [
    "<h1> Vista de Listado </h1>"
   ]
  },
  {
   "cell_type": "markdown",
   "id": "1f55b839-1fbd-473f-b520-139b4d6f95b8",
   "metadata": {},
   "source": [
    "## Usando el contexto\n",
    "\n",
    "### ecommerce/views.py"
   ]
  },
  {
   "cell_type": "code",
   "execution_count": null,
   "id": "753787eb-15bb-45ff-b85d-2d5d23aa94a8",
   "metadata": {},
   "outputs": [],
   "source": [
    "from django.shortcuts import render\n",
    "from django.http import HttpResponse, HttpResponseRedirect\n",
    "\n",
    "from .models import ProductModel\n",
    "\n",
    "# Create your views here.\n",
    "def product_model_list_view(request):\n",
    "    queryset = ProductModel.objects.all()\n",
    "    print(queryset)\n",
    "    template = \"ecommerce/list-view.html\"\n",
    "    context = {\n",
    "        \"products\" : queryset#<-------------\n",
    "    }\n",
    "    return render(request, template, context)"
   ]
  },
  {
   "cell_type": "markdown",
   "id": "8bfb0614-5339-4ba1-9361-eefdca075317",
   "metadata": {},
   "source": [
    "## templates/ecommerce/list-view.html"
   ]
  },
  {
   "cell_type": "code",
   "execution_count": null,
   "id": "41951b7b-1fde-4640-9102-2f426c6aa026",
   "metadata": {},
   "outputs": [],
   "source": [
    "<h1>Vista de Listado</h1>\n",
    "{% for product in products %}\n",
    "    <li>\n",
    "        {{ product.title }} {{ product.price }}\n",
    "    </li>\n",
    "{% endfor %}"
   ]
  },
  {
   "cell_type": "markdown",
   "id": "169e1922-13e0-4539-b3cc-7839a89ece42",
   "metadata": {},
   "source": [
    "### Protegiendo los endpoint"
   ]
  },
  {
   "cell_type": "code",
   "execution_count": null,
   "id": "027a65b2-cf8c-467c-acd9-e1f04cb69541",
   "metadata": {},
   "outputs": [],
   "source": [
    "from django.contrib.auth.decorators import login_required\n",
    "from django.shortcuts import render\n",
    "from django.http import HttpResponse, HttpResponseRedirect\n",
    "\n",
    "from .models import ProductModel\n",
    "\n",
    "# Create your views here.\n",
    "#@login_required()\n",
    "def product_model_list_view(request):\n",
    "    queryset = ProductModel.objects.all()\n",
    "    print(request.user)\n",
    "    \n",
    "    context = {\n",
    "        \"products\" : queryset\n",
    "    }\n",
    "\n",
    "    if request.user.is_authenticated:\n",
    "        template = \"ecommerce/list-view.html\"\n",
    "    else:\n",
    "        template = \"ecommerce/list-view-public.html\"\n",
    "\n",
    "    return render(request, template, context)\n",
    "\n",
    "\n",
    "@login_required()\n",
    "def login_required_view(request):\n",
    "    queryset = ProductModel.objects.all()\n",
    "    print(request.user)\n",
    "    \n",
    "    context = {\n",
    "        \"products\" : queryset\n",
    "    }\n",
    "\n",
    "    if request.user.is_authenticated:\n",
    "        template = \"ecommerce/list-view.html\"\n",
    "    else:\n",
    "        template = \"ecommerce/list-view-public.html\"\n",
    "\n",
    "    return render(request, template, context)"
   ]
  },
  {
   "cell_type": "markdown",
   "id": "99985248-0a8c-4c35-ab8a-02e84be80121",
   "metadata": {},
   "source": [
    "## Vista de detalle\n",
    "### ecommerce/views.py"
   ]
  },
  {
   "cell_type": "code",
   "execution_count": null,
   "id": "47538f3c-8aa1-400f-ac4f-515abbeef847",
   "metadata": {},
   "outputs": [],
   "source": [
    "from django.contrib.auth.decorators import login_required\n",
    "from django.shortcuts import render, get_object_or_404\n",
    "from django.http import HttpResponse, HttpResponseRedirect\n",
    "\n",
    "from .models import ProductModel\n",
    "\n",
    "# Create your views here.\n",
    "def product_model_detail_view(request, product_id):\n",
    "    instance = get_object_or_404(ProductModel, id=product_id)\n",
    "    context = {\n",
    "        \"product\": instance\n",
    "    }\n",
    "    template = \"ecommerce/detail-view.html\"\n",
    "    return render(request, template, context)\n",
    "#las demas views"
   ]
  },
  {
   "cell_type": "markdown",
   "id": "4820142e-afeb-4398-9c2b-65c1c9775f2e",
   "metadata": {},
   "source": [
    "### ecommerce/urls.py"
   ]
  },
  {
   "cell_type": "code",
   "execution_count": null,
   "id": "9bf8b653-a117-4bfc-acc7-4ab3940de93b",
   "metadata": {},
   "outputs": [],
   "source": [
    "from django.urls import path\n",
    "\n",
    "from ecommerce import views\n",
    "\n",
    "urlpatterns = [\n",
    "    path(\"\", views.product_model_list_view, name=\"list\"),\n",
    "    path(\"<int:product_id>\", views.product_model_detail_view, name=\"detail\")#<---------\n",
    "]"
   ]
  },
  {
   "cell_type": "markdown",
   "id": "d0025fae-0bdd-4c98-a98c-7e16328b86bb",
   "metadata": {},
   "source": [
    "### templates/ecommerce/detail-view.html"
   ]
  },
  {
   "cell_type": "code",
   "execution_count": null,
   "id": "572cee74-cbaf-4a8d-a6da-4af43224002b",
   "metadata": {},
   "outputs": [],
   "source": [
    "<h1>\n",
    "    {{ product.title }}\n",
    "    {{ product.price }}\n",
    "</h1>"
   ]
  },
  {
   "cell_type": "markdown",
   "id": "f0ea8d1a-7dc4-402d-97e1-2b2a180b7930",
   "metadata": {},
   "source": [
    "## templates/ecommerce/list-view.html"
   ]
  },
  {
   "cell_type": "code",
   "execution_count": null,
   "id": "5ca0ee48-fa8f-431f-81a9-b981b8cabf90",
   "metadata": {},
   "outputs": [],
   "source": [
    "<h1>Vista de Listado</h1>\n",
    "{% for product in products %}\n",
    "    <li>\n",
    "        <a href=\"/ecommerce{{ product.id }}\">{{ product.title }}</a>\n",
    "    </li>\n",
    "{% endfor %}"
   ]
  },
  {
   "cell_type": "markdown",
   "id": "da3ef003-a83a-4ac8-bd5b-d0d21ec12b72",
   "metadata": {},
   "source": [
    "## Vista de Creacion\n",
    "### ecommerce/views.py"
   ]
  },
  {
   "cell_type": "code",
   "execution_count": null,
   "id": "5b0f8384-7bae-417c-a919-f0f7fc9d8115",
   "metadata": {},
   "outputs": [],
   "source": [
    "from django.contrib.auth.decorators import login_required\n",
    "from django.contrib import messages\n",
    "from django.shortcuts import render, get_object_or_404\n",
    "from django.http import HttpResponse, HttpResponseRedirect\n",
    "\n",
    "from .forms import ProductModelForm\n",
    "from .models import ProductModel\n",
    "\n",
    "\n",
    "# Create your views here.\n",
    "def product_model_create_view(request):\n",
    "    form = ProductModelForm(request.POST or None)\n",
    "    if form.is_valid():\n",
    "        isinstance = form.save(commit=False)\n",
    "        isinstance.save()\n",
    "        messages.success(request, \"Producto creado con exito\")\n",
    "        return HttpResponseRedirect(\"/ecommerce/{product_id}\".format(product_id=isinstance.id))\n",
    "    context = {\n",
    "        \"form\": form\n",
    "    }\n",
    "    template = \"ecommerce/create-view.html\"\n",
    "    return render(request, template, context)\n",
    "#las demas views"
   ]
  },
  {
   "cell_type": "markdown",
   "id": "9fe4ac10-ab77-4c6c-b3f7-0163366d5cdf",
   "metadata": {},
   "source": [
    "### ecommerce/forms.py"
   ]
  },
  {
   "cell_type": "code",
   "execution_count": null,
   "id": "501a8648-84d4-4638-80c6-0ff191b516c5",
   "metadata": {},
   "outputs": [],
   "source": [
    "from django import forms\n",
    "\n",
    "from .models import ProductModel\n",
    "\n",
    "class ProductModelForm(forms.ModelForm):\n",
    "    class Meta:\n",
    "        model = ProductModel\n",
    "        fields = [\n",
    "            \"title\",\n",
    "            \"price\"\n",
    "        ]"
   ]
  },
  {
   "cell_type": "markdown",
   "id": "e7cd2af4-868c-4973-9047-6d25d98985f6",
   "metadata": {},
   "source": [
    "### templates/ecommerce/messages.html"
   ]
  },
  {
   "cell_type": "code",
   "execution_count": null,
   "id": "16a8a7ac-c6a1-4d6e-82dd-bff074880ce2",
   "metadata": {},
   "outputs": [],
   "source": [
    "{% if messages %}\n",
    "<ul class=\"messages\">\n",
    "    {% for message in messages %}\n",
    "    <li {% if message.tags %} class=\"{{ message.tags }}\" {% endif %}>{{message}}</li>\n",
    "    {% endfor %}\n",
    "</ul>\n",
    "{% endif %}"
   ]
  },
  {
   "cell_type": "markdown",
   "id": "c5126cc9-4a22-4894-b59c-a725a8bc2b50",
   "metadata": {},
   "source": [
    "### templates/ecommerce/create-view.html"
   ]
  },
  {
   "cell_type": "code",
   "execution_count": null,
   "id": "3908aebb-ee99-4559-9ede-f39dde4748ea",
   "metadata": {},
   "outputs": [],
   "source": [
    "{% include \"ecommerce/messages.html\" %}\n",
    "\n",
    "<h1>Crear un nuevo producto</h1>\n",
    "<form method=\"POST\" action=\"\"> \n",
    "    {% csrf_token %}\n",
    "    {{ form.as_p }}\n",
    "    <input type=\"submit\" value=\"Crear\">\n",
    "</form>"
   ]
  },
  {
   "cell_type": "markdown",
   "id": "8dc8afba-7f4c-464b-b4c8-81c72726bfa5",
   "metadata": {},
   "source": [
    "NOTA: Agregar\n",
    "{% include \"ecommerce/messages.html\" %}\n",
    "en todos los templates\n",
    "\n",
    "## ecommerce/urls.py"
   ]
  },
  {
   "cell_type": "code",
   "execution_count": null,
   "id": "9951dcc7-0503-41e9-8635-47f07b9f2d62",
   "metadata": {},
   "outputs": [],
   "source": [
    "from django.urls import path\n",
    "\n",
    "from ecommerce import views\n",
    "\n",
    "urlpatterns = [\n",
    "    path(\"\", views.product_model_list_view, name=\"list\"),\n",
    "    path(\"<int:product_id>\", views.product_model_detail_view, name=\"detail\"),\n",
    "    path(\"create\", views.product_model_create_view, name=\"create\")#<---------\n",
    "]"
   ]
  },
  {
   "cell_type": "markdown",
   "id": "890b98d9-8a8a-4c77-9b03-134745239d29",
   "metadata": {},
   "source": [
    "### Vista de actualizacion\n",
    "## ecommerce/views.py"
   ]
  },
  {
   "cell_type": "code",
   "execution_count": null,
   "id": "e3afe308-f213-4d5b-80e4-18693b7b46c0",
   "metadata": {},
   "outputs": [],
   "source": [
    "from django.contrib.auth.decorators import login_required\n",
    "from django.contrib import messages\n",
    "from django.shortcuts import render, get_object_or_404\n",
    "from django.http import HttpResponse, HttpResponseRedirect\n",
    "\n",
    "from .forms import ProductModelForm\n",
    "from .models import ProductModel\n",
    "\n",
    "\n",
    "# Create your views here.\n",
    "def product_model_update_view(request, product_id=None):\n",
    "    instance = get_object_or_404(ProductModel, id=product_id)\n",
    "    form = ProductModelForm(request.POST or None, instance=instance)\n",
    "    if form.is_valid():\n",
    "        isinstance = form.save(commit=False)\n",
    "        isinstance.save()\n",
    "        messages.success(request, \"Producto actualizado con exito\")\n",
    "        return HttpResponseRedirect(\"/ecommerce/{product_id}\".format(product_id=isinstance.id))\n",
    "    context = {\n",
    "        \"form\": form\n",
    "    }\n",
    "    template = \"ecommerce/update-view.html\"\n",
    "    return render(request, template, context)\n",
    "#las demas views"
   ]
  },
  {
   "cell_type": "markdown",
   "id": "0a700073-a478-4457-925a-5db8ae1ef164",
   "metadata": {},
   "source": [
    "## templates/ecommerce/update-view.html"
   ]
  },
  {
   "cell_type": "code",
   "execution_count": null,
   "id": "c225edfc-b9dc-4c11-936c-b069f5542579",
   "metadata": {},
   "outputs": [],
   "source": [
    "{% include \"ecommerce/messages.html\" %}\n",
    "\n",
    "<h1>Actualizacion de producto {{ form.instance.title }}</h1>\n",
    "{{form.instance.title}}\n",
    "<form method=\"POST\" action=\"\">\n",
    "    {% csrf_token %}\n",
    "    {{ form.as_p }}\n",
    "    <input type=\"submit\" value=\"Actualizar\">\n",
    "</form>"
   ]
  },
  {
   "cell_type": "markdown",
   "id": "6f2cb85d-f15d-4870-9280-1388320a1cb1",
   "metadata": {},
   "source": [
    "## ecommerce/urls.py"
   ]
  },
  {
   "cell_type": "code",
   "execution_count": null,
   "id": "77099019-a740-4378-b991-c242a219b647",
   "metadata": {},
   "outputs": [],
   "source": [
    "from django.urls import path\n",
    "\n",
    "from ecommerce import views\n",
    "\n",
    "urlpatterns = [\n",
    "    path(\"\", views.product_model_list_view, name=\"list\"),\n",
    "    path(\"<int:product_id>\", views.product_model_detail_view, name=\"detail\"),\n",
    "    path(\"create\", views.product_model_create_view, name=\"create\"),\n",
    "    path(\"<int:product_id>/edit\", views.product_model_update_view, name=\"update\")#<------\n",
    "]\n"
   ]
  },
  {
   "cell_type": "markdown",
   "id": "23866a21-905b-4def-8edb-f1234a884922",
   "metadata": {},
   "source": [
    "## Vista para eliminar\n",
    "### ecommerce/views.py"
   ]
  },
  {
   "cell_type": "code",
   "execution_count": null,
   "id": "fd7d6b22-871e-4817-852e-b75ee1b26689",
   "metadata": {},
   "outputs": [],
   "source": [
    "from django.contrib.auth.decorators import login_required\n",
    "from django.contrib import messages\n",
    "from django.shortcuts import render, get_object_or_404\n",
    "from django.http import HttpResponse, HttpResponseRedirect\n",
    "\n",
    "from .forms import ProductModelForm\n",
    "from .models import ProductModel\n",
    "\n",
    "\n",
    "# Create your views here.\n",
    "def product_model_delete_view(request, product_id):\n",
    "    instance = get_object_or_404(ProductModel, id=product_id)\n",
    "    if request.method == \"POST\":\n",
    "        instance.delete()\n",
    "        HttpResponseRedirect(\"/ecommerce/\")\n",
    "        messages.success(\"Producto eliminado\")\n",
    "    context = {\n",
    "        \"product\": instance\n",
    "    }\n",
    "    template = \"ecommerce/delete-view.html\"\n",
    "    return render(request, template, context)"
   ]
  },
  {
   "cell_type": "markdown",
   "id": "7e00645b-c05e-45af-aeda-5cc51bde99b5",
   "metadata": {},
   "source": [
    "### templates/ecommerce/delete-view.html"
   ]
  },
  {
   "cell_type": "code",
   "execution_count": null,
   "id": "e6be6655-1f39-4b37-b836-25b52ff6f481",
   "metadata": {},
   "outputs": [],
   "source": [
    "{% include \"ecommerce/messages.html\" %}\n",
    "<h1>Eliminar {{ product.title }}</h1>\n",
    "\n",
    "<form method=\"POST\" action=\"\">\n",
    "    {% csrf_token %}\n",
    "    ¿Estas seguro que quieres eliminar el producto?\n",
    "    <input type=\"submit\" value=\"Eliminar\">\n",
    "    <a href=\"/ecommerce/{{ product.id }}\">Cancelar</a>\n",
    "</form>"
   ]
  },
  {
   "cell_type": "markdown",
   "id": "5b65209b-d645-4da2-a469-20c4d85bfe88",
   "metadata": {},
   "source": [
    "### ecommerce/urls.py"
   ]
  },
  {
   "cell_type": "code",
   "execution_count": null,
   "id": "2fd2df0b-3e02-4c51-9d1a-ead1b3a5ebb8",
   "metadata": {},
   "outputs": [],
   "source": [
    "from django.urls import path\n",
    "\n",
    "from ecommerce import views\n",
    "\n",
    "urlpatterns = [\n",
    "    path(\"\", views.product_model_list_view, name=\"list\"),\n",
    "    path(\"<int:product_id>\", views.product_model_detail_view, name=\"detail\"),\n",
    "    path(\"create\", views.product_model_create_view, name=\"create\"),\n",
    "    path(\"<int:product_id>/edit\", views.product_model_update_view, name=\"update\"),\n",
    "    path(\"<int:product_id>/delete\", views.product_model_delete_view, name=\"delete\")#<------\n",
    "]"
   ]
  },
  {
   "cell_type": "markdown",
   "id": "3b5a597e-0a82-4a2f-829a-21dd612b0c9f",
   "metadata": {},
   "source": [
    "## Busqueda en la Vista de Listado\n",
    "### templates/ecommerce/search.html"
   ]
  },
  {
   "cell_type": "code",
   "execution_count": null,
   "id": "bfa28eb9-e668-4df0-9bc7-e7390dc265b4",
   "metadata": {},
   "outputs": [],
   "source": [
    "<form method=\"GET\" action=\"/ecommerce/\">\n",
    "    <input type=\"text\" name=\"q\" placeholder=\"Buscar\">\n",
    "</form>"
   ]
  },
  {
   "cell_type": "markdown",
   "id": "203a203c-cdf3-4b7c-8b61-98bbddfba09b",
   "metadata": {},
   "source": [
    "## templates/ecommerce/list-view.html"
   ]
  },
  {
   "cell_type": "code",
   "execution_count": null,
   "id": "e0a45827-26fd-4339-a0bd-a9751eda66f0",
   "metadata": {},
   "outputs": [],
   "source": [
    "{% include \"ecommerce/search.html\" %}\n",
    "{% include \"ecommerce/messages.html\" %}\n",
    "<h1>Vista de Listado</h1>\n",
    "{% for product in products %}\n",
    "    <li>\n",
    "        <a href=\"/ecommerce/{{ product.id }}\">{{ product.title }}</a>\n",
    "    </li>\n",
    "{% endfor %}"
   ]
  },
  {
   "cell_type": "markdown",
   "id": "b8de2a75-2d98-49b3-954b-9ad135022e77",
   "metadata": {},
   "source": [
    "## ecommerce/views.py"
   ]
  },
  {
   "cell_type": "code",
   "execution_count": null,
   "id": "4426d0fb-ec3f-442c-864e-e756343c5ff4",
   "metadata": {},
   "outputs": [],
   "source": [
    "from django.db.models import Q\n",
    "\n",
    "#...\n",
    "\n",
    "#@login_required()\n",
    "def product_model_list_view(request):\n",
    "    query = request.GET.get(\"q\", None)\n",
    "    queryset = ProductModel.objects.all()\n",
    "    if query is not None:\n",
    "        queryset = queryset.filter(\n",
    "            Q(title__contains=query) |\n",
    "            Q(price__contains=query)\n",
    "        )    \n",
    "    context = {\n",
    "        \"products\" : queryset\n",
    "    }\n",
    "    if request.user.is_authenticated:\n",
    "        template = \"ecommerce/list-view.html\"\n",
    "    else:\n",
    "        template = \"ecommerce/list-view-public.html\"\n",
    "\n",
    "    return render(request, template, context)"
   ]
  },
  {
   "cell_type": "markdown",
   "id": "1fb47037-8fdd-41fe-9047-5145eb9b0d6f",
   "metadata": {},
   "source": [
    "### Práctica 52.10\n",
    "## Modificar archivo ecommerce/models.py"
   ]
  },
  {
   "cell_type": "code",
   "execution_count": null,
   "id": "d2382b68-817d-4324-a22c-84aa78b74766",
   "metadata": {},
   "outputs": [],
   "source": [
    "from django.db import models\n",
    "\n",
    "# Create your models here.\n",
    "class ProductModel(models.Model):\n",
    "    title = models.TextField()\n",
    "    price = models.FloatField()\n",
    "    description = models.TextField()#<-----\n",
    "    seller = models.TextField()#<-----\n",
    "    color = models.TextField()#<-----\n",
    "    product_dimemsions = models.TextField()#<-----"
   ]
  },
  {
   "cell_type": "markdown",
   "id": "1c9589cf-6ca4-49f8-9de9-173585950b8e",
   "metadata": {},
   "source": [
    "## Agregar migraciones\n",
    "- python manage.py makemigrations\n",
    "- python manage.py migrate\n",
    "## Modificar archivo ecommerce/forms.py"
   ]
  },
  {
   "cell_type": "code",
   "execution_count": null,
   "id": "bb3527f5-47c8-4a9c-9a07-ca37a486163b",
   "metadata": {},
   "outputs": [],
   "source": [
    "from django import forms\n",
    "\n",
    "from .models import ProductModel\n",
    "\n",
    "class ProductModelForm(forms.ModelForm):\n",
    "    class Meta:\n",
    "        model = ProductModel\n",
    "        fields = [\n",
    "            \"title\",\n",
    "            \"price\",\n",
    "            \"description\",#<-----\n",
    "            \"seller\",#<-----\n",
    "            \"color\",#<-----\n",
    "            \"product_dimemsions\"#<-----\n",
    "        ]"
   ]
  },
  {
   "cell_type": "markdown",
   "id": "d2ac233b-38b4-4655-a795-225a9ade274c",
   "metadata": {},
   "source": [
    "## Modificar archivo templates/ecommerce/detail-view.html"
   ]
  },
  {
   "cell_type": "code",
   "execution_count": null,
   "id": "2d6aea96-ed37-43ac-ae4a-dc708d4e7874",
   "metadata": {},
   "outputs": [],
   "source": [
    "{% include \"ecommerce/messages.html\" %}\n",
    "<h1>\n",
    "    {{ product.title }}\n",
    "    {{ product.price }}\n",
    "    {{ product.description }}#<-----\n",
    "    {{ product.seller }}#<-----\n",
    "    {{ product.color }}#<-----\n",
    "    {{ product.product_dimemsions }}#<-----\n",
    "</h1>"
   ]
  }
 ],
 "metadata": {
  "kernelspec": {
   "display_name": "Python [conda env:base] *",
   "language": "python",
   "name": "conda-base-py"
  },
  "language_info": {
   "codemirror_mode": {
    "name": "ipython",
    "version": 3
   },
   "file_extension": ".py",
   "mimetype": "text/x-python",
   "name": "python",
   "nbconvert_exporter": "python",
   "pygments_lexer": "ipython3",
   "version": "3.12.7"
  }
 },
 "nbformat": 4,
 "nbformat_minor": 5
}
