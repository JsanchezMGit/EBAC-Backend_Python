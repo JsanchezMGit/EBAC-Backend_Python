{
 "cells": [
  {
   "cell_type": "markdown",
   "id": "ab9a51fe-0cce-43ea-a55b-7cd5c77c7b11",
   "metadata": {},
   "source": [
    "## Vistas basadas en funciones VS vistas basadas en clases"
   ]
  },
  {
   "cell_type": "code",
   "execution_count": null,
   "id": "8abcb234-63df-4e4a-970d-7f32a856b219",
   "metadata": {},
   "outputs": [],
   "source": [
    "python manage.py startapp products"
   ]
  },
  {
   "cell_type": "code",
   "execution_count": null,
   "id": "44667dd7-6844-465f-8e70-e9205c3bd5c2",
   "metadata": {},
   "outputs": [],
   "source": [
    "products/views.py"
   ]
  },
  {
   "cell_type": "code",
   "execution_count": null,
   "id": "07a3c10f-0122-4393-98df-9a97f3262122",
   "metadata": {},
   "outputs": [],
   "source": [
    "from django.views.generic import View, ListView\n",
    "from django.shortcuts import render\n",
    "from django.decorators.http import require_http_methods\n",
    "\n",
    "from .models import Product, Post\n",
    "\n",
    "def product_list_view(request):\n",
    "    if request.method == \"POST\":\n",
    "        print(request.POST)\n",
    "    print(request.method == \"POST\")\n",
    "    return render(request, \"template\", {})\n",
    "\n",
    "class ProductHomeView(View):\n",
    "    def get(self, *args, **kwargs):\n",
    "        return render(request, \"template\", {})\n",
    "\n",
    "    def post(self, *args, **kwargs):\n",
    "        print(request.POST)\n",
    "        return render(request, \"template\", {})\n",
    "    \n",
    "class ProductListView(ListView):\n",
    "    queryset = Product.object.all()\n",
    "\n",
    "product_list_view = ProductListView.as_view()\n",
    "\n",
    "class BlogPostsListView(ListView):\n",
    "    queryset = Post.objects.all()\n",
    "\n",
    "class UsersPostListView(ListView):\n",
    "    queryset = User.objects.all()"
   ]
  },
  {
   "cell_type": "markdown",
   "id": "54c364c6-109c-419e-ae32-e0c8174a7fb7",
   "metadata": {},
   "source": [
    "## TemplateView"
   ]
  },
  {
   "cell_type": "code",
   "execution_count": null,
   "id": "5e7b06ee-4802-42da-a64c-7347a7daea08",
   "metadata": {},
   "outputs": [],
   "source": [
    "src/templates/about.html"
   ]
  },
  {
   "cell_type": "code",
   "execution_count": null,
   "id": "e9b2749f-6f91-41e9-90e1-3fa67b7be4db",
   "metadata": {},
   "outputs": [],
   "source": [
    "<h1>Acerca de el Ecommerce</h1>"
   ]
  },
  {
   "cell_type": "code",
   "execution_count": null,
   "id": "b95d6d64-b38b-4a07-a3de-d425637c9777",
   "metadata": {},
   "outputs": [],
   "source": [
    "src/templates/team.html"
   ]
  },
  {
   "cell_type": "code",
   "execution_count": null,
   "id": "8cfd89ae-da1c-406e-b98f-a76234116854",
   "metadata": {},
   "outputs": [],
   "source": [
    "Equipo detras del Ecommerce"
   ]
  },
  {
   "cell_type": "code",
   "execution_count": null,
   "id": "32f04856-4133-449a-a7ac-d4a4d4ddefda",
   "metadata": {},
   "outputs": [],
   "source": [
    "src/products/views.py"
   ]
  },
  {
   "cell_type": "code",
   "execution_count": null,
   "id": "3fb73ce3-37ab-4b6a-9150-d30ea25b7913",
   "metadata": {},
   "outputs": [],
   "source": [
    "from django.views.generic import View, TemplateView\n",
    "from django.shortcuts import render\n",
    "\n",
    "# def about_us_view(request):\n",
    "#     return render(request, \"about.html\", {})\n",
    "\n",
    "# class AboutUsView(View):\n",
    "#     def get(self, request):\n",
    "#         return render(request, \"about.html\", {})\n",
    "    \n",
    "# class AboutUsView(TemplateView):\n",
    "#     template_name = \"about.html\""
   ]
  },
  {
   "cell_type": "code",
   "execution_count": null,
   "id": "05baf037-4f22-4ddd-a9e4-e6512e2d2115",
   "metadata": {},
   "outputs": [],
   "source": [
    "src/products/urls.py"
   ]
  },
  {
   "cell_type": "code",
   "execution_count": null,
   "id": "300fdef1-3281-4e79-b1b0-d0d0cef5dbd4",
   "metadata": {},
   "outputs": [],
   "source": [
    "from django.contrib import admin\n",
    "from django.urls import path\n",
    "from django.views.generic import TemplateView\n",
    "\n",
    "from products import views\n",
    "\n",
    "urlpatterns = [\n",
    "    path(\"admin/\" admin.site.urls),\n",
    "    path(\"about/\", TemplateView.as_view(template_name=\"about.html\")),\n",
    "    path(\"team/\", TemplateView.as_view(template_name=\"team.html\"))\n",
    "]"
   ]
  },
  {
   "cell_type": "code",
   "execution_count": null,
   "id": "1751a7a4-7dea-4e83-8628-61a14b246bf0",
   "metadata": {},
   "outputs": [],
   "source": [
    "src/config/settings.py"
   ]
  },
  {
   "cell_type": "code",
   "execution_count": null,
   "id": "93c569e5-1328-49be-99cd-d2fcb4b72ca1",
   "metadata": {},
   "outputs": [],
   "source": [
    "#...\n",
    "\n",
    "# Application definitions\n",
    "INSTALLED_APPS = [\n",
    "    \"pages.apps.PagesConfig\",\n",
    "    \"products.apps.ProductsConfig\",#<-----\n",
    "    \"ecommerce.apps.EcommerceConfig\",\n",
    "    \"base.apps.BaseConfig\",\n",
    "    \"django.contrib.admin\",\n",
    "    \"django.contrib.auth\",\n",
    "    \"django.contrib.contenttypes\",\n",
    "    \"django.contrib.sessions\",\n",
    "    \"django.contrib.messages\",\n",
    "    \"django.contrib.staticfiles\",\n",
    "]\n",
    "\n",
    "#..."
   ]
  },
  {
   "cell_type": "code",
   "execution_count": null,
   "id": "838505e3-c24f-497c-a488-abf8f1d88152",
   "metadata": {},
   "outputs": [],
   "source": [
    "src/config/urls.py"
   ]
  },
  {
   "cell_type": "code",
   "execution_count": null,
   "id": "4bedcdb9-cca0-452e-8f0e-899dbf605db9",
   "metadata": {},
   "outputs": [],
   "source": [
    "\"\"\"\n",
    "URL configuration for hello project.\n",
    "\n",
    "The `urlpatterns` list routes URLs to views. For more information please see:\n",
    "    https://docs.djangoproject.com/en/5.1/topics/http/urls/\n",
    "Examples:\n",
    "Function views\n",
    "    1. Add an import:  from my_app import views\n",
    "    2. Add a URL to urlpatterns:  path('', views.home, name='home')\n",
    "Class-based views\n",
    "    1. Add an import:  from other_app.views import Home\n",
    "    2. Add a URL to urlpatterns:  path('', Home.as_view(), name='home')\n",
    "Including another URLconf\n",
    "    1. Import the include() function: from django.urls import include, path\n",
    "    2. Add a URL to urlpatterns:  path('blog/', include('blog.urls'))\n",
    "\"\"\"\n",
    "\n",
    "from django.conf import settings\n",
    "from django.contrib import admin\n",
    "from django.urls import include, path\n",
    "\n",
    "urlpatterns = [\n",
    "    path(\"up/\", include(\"up.urls\")),\n",
    "    path(\"\", include(\"pages.urls\")),\n",
    "    path(\"ecommerce/\", include(\"ecommerce.urls\")),\n",
    "    path(\"products/\", include(\"products.urls\")),#<-----\n",
    "    path(\"admin/\", admin.site.urls),\n",
    "]\n",
    "if not settings.TESTING:\n",
    "    urlpatterns = [\n",
    "        *urlpatterns,\n",
    "        path(\"__debug__/\", include(\"debug_toolbar.urls\")),\n",
    "    ]"
   ]
  },
  {
   "cell_type": "markdown",
   "id": "a2d95535-729f-465b-b4c2-f5ea34d8a63f",
   "metadata": {},
   "source": [
    "## Vista de redireccionamiento"
   ]
  },
  {
   "cell_type": "code",
   "execution_count": null,
   "id": "21af133e-cad8-4062-90bf-9ad5e13d6ae7",
   "metadata": {},
   "outputs": [],
   "source": [
    "src/products/urls.py"
   ]
  },
  {
   "cell_type": "code",
   "execution_count": null,
   "id": "0ee202f2-1bf7-49e8-9c43-b59dfa92da5b",
   "metadata": {},
   "outputs": [],
   "source": [
    "from django.contrib import admin\n",
    "from django.urls import path\n",
    "from django.views.generic import TemplateView, RedirectView\n",
    "\n",
    "from products import views\n",
    "\n",
    "urlpatterns = [\n",
    "    path(\"admin/\", admin.site.urls),\n",
    "    path(\"about/\", TemplateView.as_view(template_name=\"about.html\")),\n",
    "    path(\"about-us/\", RedirectView.as_view(url=\"/products/about/\")),#<-----\n",
    "    path(\"team/\", TemplateView.as_view(template_name=\"team.html\"))\n",
    "]"
   ]
  },
  {
   "cell_type": "markdown",
   "id": "3e06fdc6-b740-474b-9275-55ff08ee9f98",
   "metadata": {},
   "source": [
    "## ListView y DetailView"
   ]
  },
  {
   "cell_type": "code",
   "execution_count": null,
   "id": "8dbde065-a93a-4bb2-989e-42292ed0f675",
   "metadata": {},
   "outputs": [],
   "source": [
    "src/products/models.py"
   ]
  },
  {
   "cell_type": "code",
   "execution_count": null,
   "id": "47f1af49-13eb-4ee9-bcb7-d62867f73009",
   "metadata": {},
   "outputs": [],
   "source": [
    "from django.db import models\n",
    "\n",
    "class Product(models.Model):\n",
    "    title = models.CharField(max_length=120)\n",
    "    slug = models.SlugField()"
   ]
  },
  {
   "cell_type": "code",
   "execution_count": null,
   "id": "0f48f4bb-b800-4a07-b0a5-a85624642102",
   "metadata": {},
   "outputs": [],
   "source": [
    "src/products/views.py"
   ]
  },
  {
   "cell_type": "code",
   "execution_count": null,
   "id": "a5e0ac0b-6998-407f-bf4a-88f239793332",
   "metadata": {},
   "outputs": [],
   "source": [
    "from django.http import HttpResponseRedirect\n",
    "from django.views.generic import ListView, DetailView\n",
    "from django.shortcuts import render\n",
    "\n",
    "from .models import Product\n",
    "\n",
    "class ProductListView(ListView):\n",
    "    # app_label = \"products\"\n",
    "    # model = Product\n",
    "    # view_name = list\n",
    "    # template_name = <app_name>/<model>_<view_name>.html\n",
    "    # template_name = products/product_list.html\n",
    "    model = Product\n",
    "\n",
    "class ProductDetailView(DetailView):\n",
    "    model = Product"
   ]
  },
  {
   "cell_type": "code",
   "execution_count": null,
   "id": "d736b6db-580a-4276-87f4-dd93fd621443",
   "metadata": {},
   "outputs": [],
   "source": [
    "src/products/urls.py"
   ]
  },
  {
   "cell_type": "code",
   "execution_count": null,
   "id": "e288956b-01ff-46fa-98f6-0e272f5d700d",
   "metadata": {},
   "outputs": [],
   "source": [
    "from django.contrib import admin\n",
    "from django.urls import path\n",
    "from django.views.generic import TemplateView, RedirectView\n",
    "\n",
    "from products.views import ProductListView, ProductDetailView\n",
    "\n",
    "urlpatterns = [\n",
    "    path(\"admin/\", admin.site.urls),\n",
    "    path(\"about/\", TemplateView.as_view(template_name=\"about.html\")),\n",
    "    path(\"about-us/\", RedirectView.as_view(url=\"/products/about/\")),\n",
    "    path(\"team/\", TemplateView.as_view(template_name=\"team.html\")),\n",
    "    path(\"products/\", ProductListView.as_view()),\n",
    "    path(\"products/<int:pk>/\", ProductDetailView.as_view())\n",
    "]"
   ]
  },
  {
   "cell_type": "code",
   "execution_count": null,
   "id": "f41affc0-1982-4135-a571-cf8f10fa733b",
   "metadata": {},
   "outputs": [],
   "source": [
    "src/templates/products/product_list.html"
   ]
  },
  {
   "cell_type": "code",
   "execution_count": null,
   "id": "96e34ed2-5fe7-469a-a863-fd5c6d7b6dd5",
   "metadata": {},
   "outputs": [],
   "source": [
    "Vista de Listado"
   ]
  },
  {
   "cell_type": "code",
   "execution_count": null,
   "id": "8252a1b8-028e-490e-bf8c-7c142e7d88e8",
   "metadata": {},
   "outputs": [],
   "source": [
    "src/templates/products/product_details.html"
   ]
  },
  {
   "cell_type": "code",
   "execution_count": null,
   "id": "89244ef5-2a85-4d9b-818b-08e49b4eb4d9",
   "metadata": {},
   "outputs": [],
   "source": [
    "Vista de detalle"
   ]
  },
  {
   "cell_type": "code",
   "execution_count": null,
   "id": "5ab437f9-e5c9-44ec-8c5f-71215e07cf92",
   "metadata": {},
   "outputs": [],
   "source": [
    "python manage.py makemigrations\n",
    "python manage.py migrate     "
   ]
  },
  {
   "cell_type": "code",
   "execution_count": null,
   "id": "75e4e54b-cf13-4cef-8358-81109c594db5",
   "metadata": {},
   "outputs": [],
   "source": [
    "src/products/admin.py"
   ]
  },
  {
   "cell_type": "code",
   "execution_count": null,
   "id": "5500743a-537d-4684-99cb-908fe989ec9c",
   "metadata": {},
   "outputs": [],
   "source": [
    "from django.contrib import admin\n",
    "\n",
    "from .models import Product\n",
    "\n",
    "admin.site.register(Product)"
   ]
  },
  {
   "cell_type": "markdown",
   "id": "dc43e4f3-75bb-446a-8328-f685a750162b",
   "metadata": {},
   "source": [
    "## Obtener data del contexto"
   ]
  },
  {
   "cell_type": "code",
   "execution_count": null,
   "id": "25445ee7-557a-4726-ad99-621f54e0c709",
   "metadata": {},
   "outputs": [],
   "source": [
    "src/products/views.py"
   ]
  },
  {
   "cell_type": "code",
   "execution_count": null,
   "id": "66b9f7db-2d80-423a-a534-92db8cd20e5f",
   "metadata": {},
   "outputs": [],
   "source": [
    "from django.http import HttpResponseRedirect\n",
    "from django.views.generic import ListView, DetailView\n",
    "from django.shortcuts import render\n",
    "\n",
    "from .models import Product\n",
    "\n",
    "class ProductListView(ListView):\n",
    "    # app_label = \"products\"\n",
    "    # model = Product\n",
    "    # view_name = list\n",
    "    # template_name = <app_name>/<model>_<view_name>.html\n",
    "    # template_name = products/product_list.html\n",
    "    model = Product\n",
    "\n",
    "    def get_context_data(self, *args, **kwargs):\n",
    "        context = super().get_context_data(*args, **kwargs)\n",
    "        context[\"title\"] = \"Mi fabuloso Ecommerce\"\n",
    "\n",
    "class ProductDetailView(DetailView):\n",
    "    model = Product"
   ]
  },
  {
   "cell_type": "code",
   "execution_count": null,
   "id": "48d6f1ef-4a84-4ddf-9df7-ab69734c1fef",
   "metadata": {},
   "outputs": [],
   "source": [
    "src/templates/products/product_list.html"
   ]
  },
  {
   "cell_type": "code",
   "execution_count": null,
   "id": "066441cc-a15f-43c5-b516-1aae88aa1272",
   "metadata": {},
   "outputs": [],
   "source": [
    "{{ title }}\n",
    "\n",
    "{% for object in object_list %}\n",
    "    <li>{{object.title}} - {{ object.slug }}</li>\n",
    "{ % endfor % }"
   ]
  },
  {
   "cell_type": "markdown",
   "id": "d3015659-e377-4ae9-98f8-90dc023442f2",
   "metadata": {},
   "source": [
    "## Modelo Proxy"
   ]
  },
  {
   "cell_type": "code",
   "execution_count": null,
   "id": "7a71f192-58b0-43b6-a895-229d265b6eb8",
   "metadata": {},
   "outputs": [],
   "source": [
    "src/products/models.py"
   ]
  },
  {
   "cell_type": "code",
   "execution_count": null,
   "id": "8d55463a-f784-4557-b615-2a0ff2ce24f9",
   "metadata": {},
   "outputs": [],
   "source": [
    "from django.db import models\n",
    "\n",
    "class Product(models.Model):\n",
    "    title = models.CharField(max_length=120)\n",
    "    slug = models.SlugField()\n",
    "\n",
    "class DigitalProduct(Product):\n",
    "    class Meta:\n",
    "        proxy = True"
   ]
  },
  {
   "cell_type": "code",
   "execution_count": null,
   "id": "1d39e6d2-efdf-4851-9c3f-cc5548e76319",
   "metadata": {},
   "outputs": [],
   "source": [
    "src/products/views.py"
   ]
  },
  {
   "cell_type": "code",
   "execution_count": null,
   "id": "6d03270b-6ee6-4c1d-a6e1-cda6f7a819a8",
   "metadata": {},
   "outputs": [],
   "source": [
    "from django.http import HttpResponseRedirect\n",
    "from django.views.generic import ListView, DetailView\n",
    "from django.shortcuts import render\n",
    "\n",
    "from .models import Product, DigitalProduct\n",
    "\n",
    "class DigitalProductListView(DigitalProduct):\n",
    "    model = DigitalProduct\n",
    "    template_name = \"products/product_list.html\"\n",
    "\n",
    "    def get_context_data(self, *args, **kwargs):\n",
    "        context = super().get_context_data(*args, **kwargs)\n",
    "        context[\"title\"] = \"Mi fabuloso Ecommerce\"\n",
    "        return context\n",
    "\n",
    "class ProductListView(ListView):\n",
    "    # app_label = \"products\"\n",
    "    # model = Product\n",
    "    # view_name = list\n",
    "    # template_name = <app_name>/<model>_<view_name>.html\n",
    "    # template_name = products/product_list.html\n",
    "    model = Product\n",
    "\n",
    "    def get_context_data(self, *args, **kwargs):\n",
    "        context = super().get_context_data(*args, **kwargs)\n",
    "        context[\"title\"] = \"Mi fabuloso Ecommerce\"\n",
    "        return context\n",
    "\n",
    "class ProductDetailView(DetailView):\n",
    "    model = Product"
   ]
  },
  {
   "cell_type": "code",
   "execution_count": null,
   "id": "bbace441-0f4a-489e-8326-97f77715e1ea",
   "metadata": {},
   "outputs": [],
   "source": [
    "src/products/urls.py"
   ]
  },
  {
   "cell_type": "code",
   "execution_count": null,
   "id": "f095ae32-155d-4166-bc26-a1a7f24f940e",
   "metadata": {},
   "outputs": [],
   "source": [
    "from django.contrib import admin\n",
    "from django.urls import path\n",
    "from django.views.generic import TemplateView, RedirectView\n",
    "\n",
    "from products.views import ProductListView, ProductDetailView, DigitalProductListView\n",
    "\n",
    "urlpatterns = [\n",
    "    path(\"admin/\", admin.site.urls),\n",
    "    path(\"about/\", TemplateView.as_view(template_name=\"about.html\")),\n",
    "    path(\"about-us/\", RedirectView.as_view(url=\"/products/about/\")),\n",
    "    path(\"team/\", TemplateView.as_view(template_name=\"team.html\")),\n",
    "    path(\"products/\", ProductListView.as_view()),\n",
    "    path(\"products/<int:pk>/\", ProductDetailView.as_view()),\n",
    "    path(\"digital-products/\", DigitalProductListView.as_view())\n",
    "]"
   ]
  },
  {
   "cell_type": "code",
   "execution_count": null,
   "id": "40bd18a1-1f73-47ef-9755-9917a3f5522b",
   "metadata": {},
   "outputs": [],
   "source": [
    "src/products/admin.py"
   ]
  },
  {
   "cell_type": "code",
   "execution_count": null,
   "id": "3d3aebd0-f3c3-43b6-a665-8f79b69413b4",
   "metadata": {},
   "outputs": [],
   "source": [
    "from django.contrib import admin\n",
    "\n",
    "from .models import Product, DigitalProduct\n",
    "\n",
    "admin.site.register(Product)\n",
    "admin.site.register(DigitalProduct)"
   ]
  },
  {
   "cell_type": "markdown",
   "id": "13e8c18f-13f2-4fe4-bef1-5a10c5ae7854",
   "metadata": {},
   "source": [
    "## Crear un mixin"
   ]
  },
  {
   "cell_type": "code",
   "execution_count": null,
   "id": "8c6a4b9e-1fc5-4d14-91b8-a7bac5d715f2",
   "metadata": {},
   "outputs": [],
   "source": [
    "src/products/views.py"
   ]
  },
  {
   "cell_type": "code",
   "execution_count": null,
   "id": "8303ee6f-235f-45e3-a03e-e2956b733bcb",
   "metadata": {},
   "outputs": [],
   "source": [
    "class TemplateTitleMixin(object):\n",
    "    title = None\n",
    "\n",
    "    def getcontext_data(self, *args, **kwargs):\n",
    "        context = super().get_context_data(*args, **kwargs)\n",
    "        context[\"title\"] = self.get_title()\n",
    "        return context\n",
    "    \n",
    "    def get_title(self):\n",
    "        return self.title"
   ]
  },
  {
   "cell_type": "code",
   "execution_count": null,
   "id": "196c1e5b-48de-4d30-9f8a-176c87317eb3",
   "metadata": {},
   "outputs": [],
   "source": [
    "src/products/views.py"
   ]
  },
  {
   "cell_type": "code",
   "execution_count": null,
   "id": "c975ecf0-c956-40bf-88f0-00ac429f9f2f",
   "metadata": {},
   "outputs": [],
   "source": [
    "from django.http import HttpResponseRedirect\n",
    "from django.views.generic import ListView, DetailView\n",
    "from django.shortcuts import render\n",
    "\n",
    "from .mixins import TemplateTitleMixin\n",
    "from .models import Product, DigitalProduct\n",
    "\n",
    "class DigitalProductListView(TemplateTitleMixin, ListView):\n",
    "    model = DigitalProduct\n",
    "    template_name = \"products/product_list.html\"\n",
    "    title = \"Productos digitales\"\n",
    "\n",
    "class ProductListView(TemplateTitleMixin, ListView):\n",
    "    # app_label = \"products\"\n",
    "    # model = Product\n",
    "    # view_name = list\n",
    "    # template_name = <app_name>/<model>_<view_name>.html\n",
    "    # template_name = products/product_list.html\n",
    "    model = Product\n",
    "    title = \"Productos fisicos\"\n",
    "\n",
    "class ProductDetailView(DetailView):\n",
    "    model = Product"
   ]
  },
  {
   "cell_type": "code",
   "execution_count": null,
   "id": "13d2930c-73cf-400b-845b-f0ab7a63ab9c",
   "metadata": {},
   "outputs": [],
   "source": [
    "src/products/views.py"
   ]
  },
  {
   "cell_type": "code",
   "execution_count": null,
   "id": "f919a18a-9c4b-4f03-b166-adc75609185e",
   "metadata": {},
   "outputs": [],
   "source": [
    "{% if title %}\n",
    "    <h1>{{ title }}</h1>\n",
    "{% endif %}\n",
    "\n",
    "{% for object in object_list %}\n",
    "    <li>{{object.title}} - {{ object.slug }}</li>\n",
    "{% endfor %}"
   ]
  },
  {
   "cell_type": "markdown",
   "id": "7039e82a-0bfe-473e-95c9-e1b8af5d4aa6",
   "metadata": {},
   "source": [
    "## RedirectView basada en ka instancia del modelo"
   ]
  },
  {
   "cell_type": "code",
   "execution_count": null,
   "id": "72a81b59-0d96-45d3-bf4e-e7f0ab872f9b",
   "metadata": {},
   "outputs": [],
   "source": [
    "src/products/views.py"
   ]
  },
  {
   "cell_type": "code",
   "execution_count": null,
   "id": "02242600-d5c3-4d48-b6cb-93afba4fca2a",
   "metadata": {},
   "outputs": [],
   "source": [
    "from django.http import HttpResponseRedirect\n",
    "from django.views.generic import ListView, DetailView, RedirectView#<-----\n",
    "from django.shortcuts import render, get_object_or_404#<-----\n",
    "\n",
    "from .mixins import TemplateTitleMixin\n",
    "from .models import Product, DigitalProduct\n",
    "\n",
    "class ProductIDRedirectView(RedirectView):\n",
    "    def get_redirect_url(self, *args, **kwargs):\n",
    "        url_params = self.kwargs\n",
    "        pk = url_params.get(\"pk\")\n",
    "        obj = get_object_or_404(Product, pk=pk)\n",
    "        slug = obj.slug\n",
    "        return f\"/products/products/{slug}\"\n",
    "\n",
    "class ProductRedirectView(RedirectView):\n",
    "    def get_redirect_url(self, *args, **kwargs):\n",
    "        url_params = self.kwargs\n",
    "        slug = url_params.get(\"slug\")\n",
    "        return f\"/products/products/{slug}\"\n",
    "#..."
   ]
  },
  {
   "cell_type": "code",
   "execution_count": null,
   "id": "597126bc-b49d-40da-aa24-8342f4e9b0a9",
   "metadata": {},
   "outputs": [],
   "source": [
    "src/products/models.py"
   ]
  },
  {
   "cell_type": "code",
   "execution_count": null,
   "id": "8a15aa9b-4ec2-4b4d-90ca-ae5b87d24d17",
   "metadata": {},
   "outputs": [],
   "source": [
    "from django.db import models\n",
    "\n",
    "class Product(models.Model):\n",
    "    title = models.CharField(max_length=120)\n",
    "    slug = models.SlugField(unique=True)#<-----\n",
    "\n",
    "class DigitalProduct(Product):\n",
    "    class Meta:\n",
    "        proxy = True"
   ]
  },
  {
   "cell_type": "code",
   "execution_count": null,
   "id": "16bc1c19-8642-44c7-b241-3e5cdd3c04a8",
   "metadata": {},
   "outputs": [],
   "source": [
    "python manage.py makemigrations\n",
    "python manage.py migrate  "
   ]
  },
  {
   "cell_type": "code",
   "execution_count": null,
   "id": "1e21af4a-bd3c-4a3d-b77c-55d3764a9b6a",
   "metadata": {},
   "outputs": [],
   "source": [
    "src/templates/products/product_detail.html"
   ]
  },
  {
   "cell_type": "code",
   "execution_count": null,
   "id": "a6a2f507-71a7-420c-a856-84d77cdc0253",
   "metadata": {},
   "outputs": [],
   "source": [
    "{% if title %}\n",
    "    <h1>{{ title }}</h1>\n",
    "{% endif %}\n",
    "\n",
    "{{ object.pk }}\n",
    "{{ object.title }}\n",
    "{{ object.slug }}"
   ]
  },
  {
   "cell_type": "code",
   "execution_count": null,
   "id": "808edfa7-f268-4c8f-865b-0ab0bb1d53e3",
   "metadata": {},
   "outputs": [],
   "source": [
    "src/products/urls.py"
   ]
  },
  {
   "cell_type": "markdown",
   "id": "aa5c1edb-58e4-49ca-bfb5-381a080f8705",
   "metadata": {},
   "source": [
    "## Mixin para proteger por login"
   ]
  },
  {
   "cell_type": "code",
   "execution_count": null,
   "id": "94429061-6958-4c17-90d9-2d6358ca0530",
   "metadata": {},
   "outputs": [],
   "source": [
    "src/products/views.py"
   ]
  },
  {
   "cell_type": "code",
   "execution_count": null,
   "id": "9a4520bd-0c9a-4e7b-8f87-0edb30f327ad",
   "metadata": {},
   "outputs": [],
   "source": [
    "from django.contrib.auth.mixins import LoginRequiredMixin\n",
    "\n",
    "#...\n",
    "\n",
    "class ProtectedProductDetailView(LoginRequiredMixin, DetailView):\n",
    "    model = Product"
   ]
  },
  {
   "cell_type": "code",
   "execution_count": null,
   "id": "0cfa93c5-35c2-4d01-a347-25d9da067120",
   "metadata": {},
   "outputs": [],
   "source": [
    "src/products/urls.py"
   ]
  },
  {
   "cell_type": "code",
   "execution_count": null,
   "id": "ef2d7664-5ee2-49aa-8b45-e6561f1f247b",
   "metadata": {},
   "outputs": [],
   "source": [
    "from django.contrib import admin\n",
    "from django.urls import path\n",
    "from django.views.generic import TemplateView, RedirectView\n",
    "\n",
    "from products.views import (\n",
    "                            ProductListView,\n",
    "                            ProductDetailView,\n",
    "                            DigitalProductListView,\n",
    "                            ProductIDRedirectView,\n",
    "                            ProductRedirectView,\n",
    "                            ProtectedProductDetailView\n",
    ")\n",
    "\n",
    "urlpatterns = [\n",
    "    path(\"admin/\", admin.site.urls),\n",
    "    path(\"about/\", TemplateView.as_view(template_name=\"about.html\")),\n",
    "    path(\"about-us/\", RedirectView.as_view(url=\"/products/about/\")),\n",
    "    path(\"team/\", TemplateView.as_view(template_name=\"team.html\")),\n",
    "    path(\"products/\", ProductListView.as_view()),\n",
    "    path(\"digital-products/\", DigitalProductListView.as_view()),\n",
    "    path(\"products/<int:pk>/\", ProductDetailView.as_view()),\n",
    "    path(\"products/<slug:slug>/\", ProductDetailView.as_view()),\n",
    "    path(\"p/<int:pk>/\", ProductIDRedirectView.as_view()),\n",
    "    path(\"p/<slug:slug>/\", ProductRedirectView.as_view()),\n",
    "    path(\"my-products/<slug:slug>/\", ProtectedProductDetailView.as_view())#<-----\n",
    "]"
   ]
  },
  {
   "cell_type": "markdown",
   "id": "6c34989f-2993-4e45-8cec-99240f4a597f",
   "metadata": {},
   "source": [
    "## Model Forms"
   ]
  },
  {
   "cell_type": "code",
   "execution_count": null,
   "id": "e4805963-b07e-4d0a-8579-3ef4ab946389",
   "metadata": {},
   "outputs": [],
   "source": [
    "src/products/models.py"
   ]
  },
  {
   "cell_type": "code",
   "execution_count": null,
   "id": "944d3e4c-6e62-4cfc-ae0b-0b843742a44c",
   "metadata": {},
   "outputs": [],
   "source": [
    "from django.conf import settings\n",
    "from django.db import models\n",
    "\n",
    "User = settings.AUTH_USER_MODEL\n",
    "\n",
    "class Product(models.Model):\n",
    "    user = models.ForeignKey(User, blank=True, null=True, on_delete=models.SET_NULL)\n",
    "    title = models.CharField(max_length=120)\n",
    "    slug = models.SlugField(unique=True)\n",
    "\n",
    "class DigitalProduct(Product):\n",
    "    class Meta:\n",
    "        proxy = True"
   ]
  },
  {
   "cell_type": "code",
   "execution_count": null,
   "id": "dfa1f3f4-10db-41c0-bb27-b0b289e4f031",
   "metadata": {},
   "outputs": [],
   "source": [
    "python manage.py makemigrations\n",
    "python manage.py migrate"
   ]
  },
  {
   "cell_type": "code",
   "execution_count": null,
   "id": "e9516e94-006a-435d-a890-03ed80ba4b53",
   "metadata": {},
   "outputs": [],
   "source": [
    "src/products/forms.py"
   ]
  },
  {
   "cell_type": "code",
   "execution_count": null,
   "id": "4cebeddb-25d8-47ae-9fd0-cd9509338bb2",
   "metadata": {},
   "outputs": [],
   "source": [
    "from django import forms\n",
    "\n",
    "from .models import Product\n",
    "\n",
    "class ProductModelForm(forms.ModelForm):\n",
    "    class Meta:\n",
    "        model = Product\n",
    "        fields = [\n",
    "            \"title\",\n",
    "            \"slug\"   \n",
    "        ]"
   ]
  },
  {
   "cell_type": "markdown",
   "id": "c900d507-4411-44a4-9caa-69b03668d73a",
   "metadata": {},
   "source": [
    "## Create view"
   ]
  },
  {
   "cell_type": "code",
   "execution_count": null,
   "id": "c20a1c0d-b53c-4a65-b616-49a4e3c10cca",
   "metadata": {},
   "outputs": [],
   "source": [
    "src/products/views.py"
   ]
  },
  {
   "cell_type": "code",
   "execution_count": null,
   "id": "dc0f1557-19d3-4133-89fe-c421e419f96a",
   "metadata": {},
   "outputs": [],
   "source": [
    "from django.contrib.auth.mixins import LoginRequiredMixin\n",
    "from django.http import HttpResponseRedirect\n",
    "from django.views.generic import (\n",
    "    ListView,\n",
    "    DetailView,\n",
    "    RedirectView,\n",
    "    CreateView\n",
    ")\n",
    "from django.shortcuts import render, get_object_or_404\n",
    "\n",
    "from .forms import ProductModelForm\n",
    "from .mixins import TemplateTitleMixin\n",
    "from .models import Product, DigitalProduct\n",
    "\n",
    "class ProtectedProductCreateView(LoginRequiredMixin, CreateView):\n",
    "    form_class = ProductModelForm\n",
    "    template_name = \"forms.html\"\n",
    "\n",
    "    def form_valid(self, form):\n",
    "        form.instance.user = self.request.user\n",
    "        return super().form_valid(form)\n",
    "    \n",
    "    def form_invalid(self, form):\n",
    "        return super().form_valid(form)\n",
    "\n",
    "#..."
   ]
  },
  {
   "cell_type": "code",
   "execution_count": null,
   "id": "62a01790-75ea-4e8c-84da-ef8ec35e394f",
   "metadata": {},
   "outputs": [],
   "source": [
    "src/products/urls.py"
   ]
  },
  {
   "cell_type": "code",
   "execution_count": null,
   "id": "1ffce64b-43d2-420c-a62a-143007bf51e0",
   "metadata": {},
   "outputs": [],
   "source": [
    "from django.contrib import admin\n",
    "from django.urls import path\n",
    "from django.views.generic import TemplateView, RedirectView\n",
    "\n",
    "from products.views import (\n",
    "                            ProductListView,\n",
    "                            ProductDetailView,\n",
    "                            DigitalProductListView,\n",
    "                            ProductIDRedirectView,\n",
    "                            ProductRedirectView,\n",
    "                            ProtectedProductDetailView,\n",
    "                            ProtectedProductCreateView\n",
    ")\n",
    "\n",
    "urlpatterns = [\n",
    "    path(\"admin/\", admin.site.urls),\n",
    "    path(\"about/\", TemplateView.as_view(template_name=\"about.html\")),\n",
    "    path(\"about-us/\", RedirectView.as_view(url=\"/products/about/\")),\n",
    "    path(\"team/\", TemplateView.as_view(template_name=\"team.html\")),\n",
    "    path(\"products/\", ProductListView.as_view()),\n",
    "    path(\"digital-products/\", DigitalProductListView.as_view()),\n",
    "    path(\"products/<int:pk>/\", ProductDetailView.as_view()),\n",
    "    path(\"products/<slug:slug>/\", ProductDetailView.as_view()),\n",
    "    path(\"p/<int:pk>/\", ProductIDRedirectView.as_view()),\n",
    "    path(\"p/<slug:slug>/\", ProductRedirectView.as_view()),\n",
    "    path(\"my-products/create/\", ProtectedProductCreateView.as_view()),\n",
    "    #path(\"my-products/<slug:slug>\", ProtectedProductDetailView.as_view())\n",
    "]"
   ]
  },
  {
   "cell_type": "code",
   "execution_count": null,
   "id": "0af42f75-2511-4b69-8e0a-a81cb9790e49",
   "metadata": {},
   "outputs": [],
   "source": [
    "src/templates/forms.html"
   ]
  },
  {
   "cell_type": "code",
   "execution_count": null,
   "id": "5f3721ec-3b6f-4962-aa0b-795af1a6760e",
   "metadata": {},
   "outputs": [],
   "source": [
    "<form method=\"POST\" action=\".\">\n",
    "    {% csrf_token %}\n",
    "    {{ form.as_p }}\n",
    "    <input type=\"submit\" value=\"Guardar\">\n",
    "</form>"
   ]
  },
  {
   "cell_type": "code",
   "execution_count": null,
   "id": "335a12d8-5eaf-4007-97fa-377454efcb23",
   "metadata": {},
   "outputs": [],
   "source": [
    "src/products/models.py"
   ]
  },
  {
   "cell_type": "code",
   "execution_count": null,
   "id": "abb749de-a4c3-4a69-9dde-1c55117194c7",
   "metadata": {},
   "outputs": [],
   "source": [
    "#...\n",
    "    def get_absolute_url(self):\n",
    "        return f\"/products/products/{self.slug}\"\n",
    "#..."
   ]
  },
  {
   "cell_type": "markdown",
   "id": "3884588c-aedd-47bc-8186-4c49d8985cbc",
   "metadata": {},
   "source": [
    "## UpdateView y DeleteView"
   ]
  },
  {
   "cell_type": "code",
   "execution_count": null,
   "id": "7164400c-4ded-48cb-8fe5-29d9af998761",
   "metadata": {},
   "outputs": [],
   "source": [
    "src/products/views.py"
   ]
  },
  {
   "cell_type": "code",
   "execution_count": null,
   "id": "7388539c-ef41-4ecf-b65b-7d17f18c2ca8",
   "metadata": {},
   "outputs": [],
   "source": [
    "from django.contrib.auth.mixins import LoginRequiredMixin\n",
    "from django.http import HttpResponseRedirect\n",
    "from django.views.generic import (\n",
    "    ListView,\n",
    "    DetailView,\n",
    "    RedirectView,\n",
    "    CreateView,\n",
    "    UpdateView,\n",
    "    DeleteView\n",
    ")\n",
    "from django.shortcuts import render, get_object_or_404\n",
    "\n",
    "from .forms import ProductModelForm\n",
    "from .mixins import TemplateTitleMixin\n",
    "from .models import Product, DigitalProduct\n",
    "\n",
    "class ProtectedUpdateView(LoginRequiredMixin, UpdateView):\n",
    "    form_class = ProductModelForm\n",
    "    template_name = \"products/product_detail.html\"\n",
    "\n",
    "    def get_queryset(self):\n",
    "        return Product.objects.filter(user=self.request.user)\n",
    "    \n",
    "    def get_success_url(self):\n",
    "        return self.objects.get_edit_url()\n",
    "    \n",
    "class ProtectedDeleteView(LoginRequiredMixin, DeleteView):\n",
    "    template_name = \"forms-delete.html\"\n",
    "\n",
    "    def get_queryset(self):\n",
    "        return Product.objects.filter(user=self.request.user)\n",
    "    \n",
    "    def get_success_url(self):\n",
    "        return \"/products/products\"\n",
    "\n",
    "#..."
   ]
  },
  {
   "cell_type": "code",
   "execution_count": null,
   "id": "f7244270-22d5-4788-a812-ad29b21225b4",
   "metadata": {},
   "outputs": [],
   "source": [
    "src/products/urls.py"
   ]
  },
  {
   "cell_type": "code",
   "execution_count": null,
   "id": "ee362896-815e-4ee2-b176-af9759b32712",
   "metadata": {},
   "outputs": [],
   "source": [
    "from django.contrib import admin\n",
    "from django.urls import path\n",
    "from django.views.generic import TemplateView, RedirectView\n",
    "\n",
    "from products.views import (\n",
    "                            ProductListView,\n",
    "                            ProductDetailView,\n",
    "                            DigitalProductListView,\n",
    "                            ProductIDRedirectView,\n",
    "                            ProductRedirectView,\n",
    "                            ProtectedProductDetailView,\n",
    "                            ProtectedProductCreateView,\n",
    "                            ProtectedDeleteView,\n",
    "                            ProtectedUpdateView\n",
    ")\n",
    "\n",
    "urlpatterns = [\n",
    "    path(\"admin/\", admin.site.urls),\n",
    "    path(\"about/\", TemplateView.as_view(template_name=\"about.html\")),\n",
    "    path(\"about-us/\", RedirectView.as_view(url=\"/products/about/\")),\n",
    "    path(\"team/\", TemplateView.as_view(template_name=\"team.html\")),\n",
    "    path(\"products/\", ProductListView.as_view()),\n",
    "    path(\"digital-products/\", DigitalProductListView.as_view()),\n",
    "    path(\"products/<int:pk>/\", ProductDetailView.as_view()),\n",
    "    path(\"products/<slug:slug>/\", ProductDetailView.as_view()),\n",
    "    path(\"p/<int:pk>/\", ProductIDRedirectView.as_view()),\n",
    "    path(\"p/<slug:slug>/\", ProductRedirectView.as_view()),\n",
    "    path(\"my-products/create/\", ProtectedProductCreateView.as_view()),\n",
    "    #path(\"my-products/<slug:slug>/\", ProtectedProductDetailView.as_view())\n",
    "    path(\"my-products/<slug:slug>/\", ProtectedUpdateView.as_view()),\n",
    "    path(\"my-products/<slug:slug>/delete/\", ProtectedDeleteView.as_view())\n",
    "]"
   ]
  },
  {
   "cell_type": "code",
   "execution_count": null,
   "id": "f4ee4385-7d13-4ffb-82d5-6defdda2de11",
   "metadata": {},
   "outputs": [],
   "source": [
    "src/templates/products/product_detail.html"
   ]
  },
  {
   "cell_type": "code",
   "execution_count": null,
   "id": "303888b0-9256-4a4e-a785-712e0c59f9f0",
   "metadata": {},
   "outputs": [],
   "source": [
    "{% if title %}\n",
    "    <h1>{{ title }}</h1>\n",
    "{% endif %}\n",
    "\n",
    "{{ object.pk }}\n",
    "{{ object.title }}\n",
    "{{ object.slug }}\n",
    "\n",
    "{% if form %}\n",
    "    {% include 'forms.html' with form=form delete_url=object.get_delete_url %}\n",
    "    <h1>{{ title }}</h1>\n",
    "{% endif %}"
   ]
  },
  {
   "cell_type": "code",
   "execution_count": null,
   "id": "73f8750d-b4fd-4ff4-8b98-71aeb7c79a50",
   "metadata": {},
   "outputs": [],
   "source": [
    "src/products/models.py"
   ]
  },
  {
   "cell_type": "code",
   "execution_count": null,
   "id": "e1ac1622-3da7-4404-84c9-8d20e0fba44e",
   "metadata": {},
   "outputs": [],
   "source": [
    "#...\n",
    "    def get_edit_url(self):\n",
    "        return f\"/products/my-products/{self.slug}\"\n",
    "    \n",
    "    def get_delete_url(self):\n",
    "        return f\"/products/my-products/{self.slug}/delete\"\n",
    "#..."
   ]
  },
  {
   "cell_type": "code",
   "execution_count": null,
   "id": "11be82b8-7b45-45e1-89d5-732cb11204dc",
   "metadata": {},
   "outputs": [],
   "source": [
    "src/templates/forms.html"
   ]
  },
  {
   "cell_type": "code",
   "execution_count": null,
   "id": "391c7a1a-6472-42b9-84de-77b2979828b6",
   "metadata": {},
   "outputs": [],
   "source": [
    "<form method=\"POST\" action=\".\">\n",
    "    {% csrf_token %}\n",
    "    {{ form.as_p }}\n",
    "    <input type=\"submit\" value=\"Guardar\">\n",
    "    {% if delete_url %}\n",
    "        <a href=\"{{ delete_url }}\">Eliminar</a>\n",
    "    {% endif %}\n",
    "</form>"
   ]
  },
  {
   "cell_type": "code",
   "execution_count": null,
   "id": "53de3932-1e5b-4652-98fb-fabf06933c5d",
   "metadata": {},
   "outputs": [],
   "source": [
    "src/templates/forms-delete.html"
   ]
  },
  {
   "cell_type": "code",
   "execution_count": null,
   "id": "24962d95-297f-4dbe-8bc1-79be3aa5cee6",
   "metadata": {},
   "outputs": [],
   "source": [
    "<form method=\"POST\" action=\".\">\n",
    "    {% csrf_token %}\n",
    "    <p>¿Estas seguro que quieres eliminar \"{{ object.title }}\"?</p>\n",
    "    <input type=\"submit\" value=\"Confirmar\">\n",
    "</form>"
   ]
  },
  {
   "cell_type": "markdown",
   "id": "749524b5-04ba-4bc2-8778-85dbd59e9304",
   "metadata": {},
   "source": [
    "## Practica"
   ]
  },
  {
   "cell_type": "code",
   "execution_count": null,
   "id": "d2412e08-309a-408a-bace-9d1c3c2572c5",
   "metadata": {},
   "outputs": [],
   "source": [
    "src/products/views.py"
   ]
  },
  {
   "cell_type": "code",
   "execution_count": null,
   "id": "f4150b4d-6123-435d-8488-aadb3c0d4dd4",
   "metadata": {},
   "outputs": [],
   "source": [
    "#...\n",
    "class ProtectedListView(LoginRequiredMixin, UpdateView):\n",
    "    model = Product\n",
    "    template_name = \"products/product_list.html\"\n",
    "\n",
    "    def get_queryset(self):\n",
    "        return Product.objects.filter(user=self.request.user)\n",
    "#..."
   ]
  },
  {
   "cell_type": "code",
   "execution_count": null,
   "id": "14b04325-6e57-486e-9eaf-3bc3a05c9e16",
   "metadata": {},
   "outputs": [],
   "source": [
    "src/products/urls.py"
   ]
  },
  {
   "cell_type": "code",
   "execution_count": null,
   "id": "4f998233-4caa-4ec9-9648-63f82134e912",
   "metadata": {},
   "outputs": [],
   "source": [
    "#...\n",
    "\n",
    "urlpatterns = [\n",
    "    path(\"admin/\", admin.site.urls),\n",
    "    path(\"about/\", TemplateView.as_view(template_name=\"about.html\")),\n",
    "    path(\"about-us/\", RedirectView.as_view(url=\"/products/about/\")),\n",
    "    path(\"team/\", TemplateView.as_view(template_name=\"team.html\")),\n",
    "    path(\"products/\", ProductListView.as_view()),\n",
    "    path(\"digital-products/\", DigitalProductListView.as_view()),\n",
    "    path(\"products/<int:pk>/\", ProductDetailView.as_view()),\n",
    "    path(\"products/<slug:slug>/\", ProductDetailView.as_view()),\n",
    "    path(\"p/<int:pk>/\", ProductIDRedirectView.as_view()),\n",
    "    path(\"p/<slug:slug>/\", ProductRedirectView.as_view()),\n",
    "    path(\"my-products/create/\", ProtectedProductCreateView.as_view()),\n",
    "    #path(\"my-products/<slug:slug>/\", ProtectedProductDetailView.as_view())\n",
    "    path(\"my-products/<slug:slug>/\", ProtectedUpdateView.as_view()),\n",
    "    path(\"my-products/<slug:slug>/delete/\", ProtectedDeleteView.as_view()),\n",
    "    path(\"my-products/\", ProtectedListView.as_view())#<-----\n",
    "]\n",
    "\n",
    "#..."
   ]
  }
 ],
 "metadata": {
  "kernelspec": {
   "display_name": "Python [conda env:base] *",
   "language": "python",
   "name": "conda-base-py"
  },
  "language_info": {
   "codemirror_mode": {
    "name": "ipython",
    "version": 3
   },
   "file_extension": ".py",
   "mimetype": "text/x-python",
   "name": "python",
   "nbconvert_exporter": "python",
   "pygments_lexer": "ipython3",
   "version": "3.12.7"
  }
 },
 "nbformat": 4,
 "nbformat_minor": 5
}
