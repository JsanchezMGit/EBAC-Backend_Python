{
 "cells": [
  {
   "cell_type": "code",
   "execution_count": null,
   "id": "8cefd3c3-5ad1-42f6-abda-b24e29e7aa5a",
   "metadata": {},
   "outputs": [],
   "source": []
  }
 ],
 "metadata": {
  "kernelspec": {
   "display_name": "",
   "name": ""
  },
  "language_info": {
   "name": ""
  }
 },
 "nbformat": 4,
 "nbformat_minor": 5
}
